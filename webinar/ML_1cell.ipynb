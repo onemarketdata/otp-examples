{
 "cells": [
  {
   "cell_type": "code",
   "execution_count": 4,
   "id": "3bbd1528-39ee-489a-8c3e-6a4ffbcaedc2",
   "metadata": {
    "tags": []
   },
   "outputs": [],
   "source": [
    "# !pip install -U onetick-ds-framework"
   ]
  },
  {
   "cell_type": "code",
   "execution_count": 1,
   "id": "6c196b1b-5d53-42ed-a07e-ef5e9083c8a4",
   "metadata": {
    "tags": []
   },
   "outputs": [
    {
     "data": {
      "text/plain": [
       "('dsframework: ', '1.0.7', 'otp: ', '1.57.5')"
      ]
     },
     "execution_count": 1,
     "metadata": {},
     "output_type": "execute_result"
    }
   ],
   "source": [
    "import pandas as pd\n",
    "from datetime import datetime\n",
    "import dsframework\n",
    "from dsframework.utils.func import build_experiment, build_experiment_class\n",
    "from dsframework.impl.data_pipelines import CalcLags, TimeSplitter, FilterValues, LimitOutliers, ApplyLog, MinMaxScaler\n",
    "from dsframework.impl.data_pipelines.ot_pipeline import ExpressionOperator, OIDSymbolOT, BaseOnetickLoader\n",
    "from dsframework.impl.models import LGBMRegressor, XGBRegressor, CatBoostRegressor\n",
    "from dsframework.impl.evaluators import MAEEvaluator, MAPEEvaluator, R2Evaluator, SMAPEEvaluator, RMSEEvaluator\n",
    "from dsframework.impl.experiments import Experiment\n",
    "import onetick.py as otp\n",
    "otp.config['tz'] = 'EST5EDT'\n",
    "\n",
    "'dsframework: ', dsframework.__version__, 'otp: ', otp.__version__"
   ]
  },
  {
   "cell_type": "markdown",
   "id": "a708b8f5-730c-4ad0-a00d-be9d5d4c7979",
   "metadata": {},
   "source": [
    "# Forecast trading volume in the next 10 minutes"
   ]
  },
  {
   "cell_type": "code",
   "execution_count": 2,
   "id": "fbce804a-b364-4405-b5da-9119e3bf9fb9",
   "metadata": {
    "tags": []
   },
   "outputs": [],
   "source": [
    "trds = otp.DataSource('NYSE_TAQ_BARS', tick_type='TRD_1M')\n",
    "trds = trds.agg({'VOLUME': otp.agg.sum('VOLUME')}, bucket_interval=600)\n",
    "df = otp.run(trds, start=otp.dt(2023,4,12,9,31), end=otp.dt(2023,4,12,16,1), symbols='AAPL')"
   ]
  },
  {
   "cell_type": "code",
   "execution_count": 3,
   "id": "0226cb36-40fa-4e80-b51a-1cec0902fd95",
   "metadata": {
    "tags": []
   },
   "outputs": [
    {
     "data": {
      "text/plain": [
       "<Axes: xlabel='Time'>"
      ]
     },
     "execution_count": 3,
     "metadata": {},
     "output_type": "execute_result"
    },
    {
     "data": {
      "image/png": "[encoded data removed]",
      "text/plain": [
       "<Figure size 640x480 with 1 Axes>"
      ]
     },
     "metadata": {},
     "output_type": "display_data"
    }
   ],
   "source": [
    "df.plot(x='Time', y='VOLUME', kind='bar')"
   ]
  },
  {
   "cell_type": "markdown",
   "id": "e3da184a-e874-485c-80d4-d64e70ab7db4",
   "metadata": {
    "tags": []
   },
   "source": [
    "# Define a query to fetch market data for creating features"
   ]
  },
  {
   "cell_type": "code",
   "execution_count": 4,
   "id": "e859cab2-7154-4c86-ae24-dbb7367b7cfc",
   "metadata": {
    "tags": []
   },
   "outputs": [],
   "source": [
    "class Bars(BaseOnetickLoader):\n",
    "    \n",
    "    def get_source(self):\n",
    "\n",
    "        data = otp.DataSource(db=self.schema.db,\n",
    "                              tick_type=self.schema.tick_type)\n",
    "        \n",
    "        data = data.agg(\n",
    "            {\n",
    "                'VOLUME': otp.agg.sum(data['VOLUME']),\n",
    "                'VWAP_BUCKET_STD': otp.agg.stddev(data['VWAP'])\n",
    "            },\n",
    "            bucket_interval=self.bucket,\n",
    "            bucket_time='start'\n",
    "        )\n",
    "        \n",
    "        data = data.time_filter(start_time=self.start.strftime('%H%M%S%f')[:-3],\n",
    "                                end_time=self.end.strftime('%H%M%S%f')[:-3],\n",
    "                                timezone='EST5EDT')\n",
    "        data, _ = data[data['VOLUME'] > 0]\n",
    "        \n",
    "        data = otp.functions.corp_actions(data,\n",
    "                                          adjustment_date=int(self.end.strftime('%Y%m%d')),\n",
    "                                          adjust_rule='SIZE',\n",
    "                                          fields='VOLUME')\n",
    "                                        \n",
    "        return data"
   ]
  },
  {
   "cell_type": "markdown",
   "id": "f0d9c94a-037a-4c83-a69f-a5a5c44ea2e7",
   "metadata": {
    "tags": []
   },
   "source": [
    "# Define an experiment"
   ]
  },
  {
   "cell_type": "code",
   "execution_count": 5,
   "id": "0b34e35c-c9f6-47c6-a534-68036ca48bc9",
   "metadata": {
    "tags": []
   },
   "outputs": [],
   "source": [
    "s = otp.dt(2022, 5, 10, 9, 31)\n",
    "e = otp.dt(2022, 11, 10, 16, 1)\n",
    "sym = ['AAPL', 'MSFT', 'AMZN', 'NVDA', 'GOOGL']\n",
    "\n",
    "class VolumePrediction(Experiment):    \n",
    "    group_column_name = \"SYMBOL_NAME\"\n",
    "    \n",
    "    splitters = [TimeSplitter(val_time_range=(datetime(2022, 9, 10), datetime(2022, 10, 9)), \n",
    "                             test_time_range=(datetime(2022, 10, 10), datetime(2022, 11, 11)))]\n",
    "    \n",
    "    datafeeds = [Bars(db='NYSE_TAQ_BARS', tick_type='TRD_1M', symbols=sym, start=s, end=e, bucket=600)]\n",
    "    \n",
    "    pipeline = [\n",
    "        CalcLags(periods=[1, 2, 3, 39, 40], columns=[\"VOLUME\"], remove_first_rows=True),\n",
    "        ExpressionOperator(\n",
    "            new_column_name='HHMM',  \n",
    "            expression=lambda tick: tick['Time'].dt.strftime('%H%M').apply(int)\n",
    "        ),\n",
    "        OIDSymbolOT(),\n",
    "        ApplyLog(columns=['VOLUME','VOLUME_LAG_.*'])\n",
    "    ]\n",
    "\n",
    "    target_columns = [\"VOLUME\"]\n",
    "    features_columns = ['VOLUME_LAG_.*', 'HHMM', 'OID'] \n",
    "    \n",
    "    models = [\n",
    "        LGBMRegressor(init_params={\"num_leaves\": [10, 20, 30], \"max_depth\": [3, 4, 5],},),\n",
    "        XGBRegressor(init_params={\"max_depth\": [3, 4, 5]}),\n",
    "    ]\n",
    "    \n",
    "    train_params = {\n",
    "        \"search_cv\": {\"val_type\": \"WalkForward\", \"folds\": 5, \"eval_metric\": \"MAE\", \"search_optimization\": \"grid\",},\n",
    "    }\n",
    "    \n",
    "    evaluators = [SMAPEEvaluator(), MAEEvaluator(), RMSEEvaluator(), R2Evaluator()]"
   ]
  },
  {
   "cell_type": "markdown",
   "id": "5f285240-d8a2-4ccc-aab2-db2c89188bab",
   "metadata": {
    "tags": []
   },
   "source": [
    "# Run the experiment"
   ]
  },
  {
   "cell_type": "code",
   "execution_count": 6,
   "id": "2ce46b51-0021-4a48-a64c-13e4a4353e90",
   "metadata": {
    "tags": []
   },
   "outputs": [
    {
     "data": {
      "text/plain": [
       "{'VOLUME_SMAPE': 0.18942649258846136,\n",
       " 'VOLUME_MAE': 226599.10190763825,\n",
       " 'VOLUME_RMSE': 512473.3363485723,\n",
       " 'VOLUME_R2': 0.7677468079133047}"
      ]
     },
     "execution_count": 6,
     "metadata": {},
     "output_type": "execute_result"
    }
   ],
   "source": [
    "exp = VolumePrediction()\n",
    "metrics, predictions = exp.run()\n",
    "metrics"
   ]
  },
  {
   "cell_type": "code",
   "execution_count": 8,
   "id": "915cbbdd-8db6-4f0b-a0b4-37195f6bf82b",
   "metadata": {
    "tags": []
   },
   "outputs": [
    {
     "data": {
      "text/html": [
       "<div>\n",
       "<style scoped>\n",
       "    .dataframe tbody tr th:only-of-type {\n",
       "        vertical-align: middle;\n",
       "    }\n",
       "\n",
       "    .dataframe tbody tr th {\n",
       "        vertical-align: top;\n",
       "    }\n",
       "\n",
       "    .dataframe thead th {\n",
       "        text-align: right;\n",
       "    }\n",
       "</style>\n",
       "<table border=\"1\" class=\"dataframe\">\n",
       "  <thead>\n",
       "    <tr style=\"text-align: right;\">\n",
       "      <th></th>\n",
       "      <th>AAPL</th>\n",
       "      <th>AMZN</th>\n",
       "      <th>GOOGL</th>\n",
       "      <th>MSFT</th>\n",
       "      <th>NVDA</th>\n",
       "    </tr>\n",
       "  </thead>\n",
       "  <tbody>\n",
       "    <tr>\n",
       "      <th>VOLUME_SMAPE</th>\n",
       "      <td>0.172903</td>\n",
       "      <td>0.185068</td>\n",
       "      <td>0.213837</td>\n",
       "      <td>0.204189</td>\n",
       "      <td>0.171137</td>\n",
       "    </tr>\n",
       "    <tr>\n",
       "      <th>VOLUME_MAE</th>\n",
       "      <td>320259.272124</td>\n",
       "      <td>346244.239643</td>\n",
       "      <td>145283.335705</td>\n",
       "      <td>116596.805177</td>\n",
       "      <td>204611.856889</td>\n",
       "    </tr>\n",
       "    <tr>\n",
       "      <th>VOLUME_RMSE</th>\n",
       "      <td>593650.155199</td>\n",
       "      <td>825384.823945</td>\n",
       "      <td>320211.747161</td>\n",
       "      <td>272472.323229</td>\n",
       "      <td>320448.526333</td>\n",
       "    </tr>\n",
       "    <tr>\n",
       "      <th>VOLUME_R2</th>\n",
       "      <td>0.729136</td>\n",
       "      <td>0.669589</td>\n",
       "      <td>0.742859</td>\n",
       "      <td>0.667359</td>\n",
       "      <td>0.723826</td>\n",
       "    </tr>\n",
       "  </tbody>\n",
       "</table>\n",
       "</div>"
      ],
      "text/plain": [
       "                       AAPL           AMZN          GOOGL           MSFT           NVDA\n",
       "VOLUME_SMAPE       0.172903       0.185068       0.213837       0.204189       0.171137\n",
       "VOLUME_MAE    320259.272124  346244.239643  145283.335705  116596.805177  204611.856889\n",
       "VOLUME_RMSE   593650.155199  825384.823945  320211.747161  272472.323229  320448.526333\n",
       "VOLUME_R2          0.729136       0.669589       0.742859       0.667359       0.723826"
      ]
     },
     "execution_count": 8,
     "metadata": {},
     "output_type": "execute_result"
    }
   ],
   "source": [
    "metric_by_symbols_base = exp.calc_metrics(group_by_column=True)\n",
    "pd.DataFrame(metric_by_symbols_base)"
   ]
  }
 ],
 "metadata": {
  "kernelspec": {
   "display_name": "Python 3 (ipykernel)",
   "language": "python",
   "name": "python3"
  },
  "language_info": {
   "codemirror_mode": {
    "name": "ipython",
    "version": 3
   },
   "file_extension": ".py",
   "mimetype": "text/x-python",
   "name": "python",
   "nbconvert_exporter": "python",
   "pygments_lexer": "ipython3",
   "version": "3.9.8"
  }
 },
 "nbformat": 4,
 "nbformat_minor": 5
}
