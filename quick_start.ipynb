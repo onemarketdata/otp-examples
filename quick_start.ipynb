{
 "cells": [
  {
   "cell_type": "markdown",
   "id": "0f506b85-f280-436b-bf5e-014f7908b0e0",
   "metadata": {},
   "source": [
    "# Quick Start\n",
    "`onetick-py` is a pandas-like API for analyzing tick data (in particular, tick-by-tick [market data](https://www.onetick.com/market-data)) using [OneTick](https://www.onetick.com/time-series-database).\n",
    "\n"
   ]
  },
  {
   "cell_type": "markdown",
   "id": "e3c62e87-01d1-42e6-8bb0-7906d659476a",
   "metadata": {},
   "source": [
    "See setting started guides at https://docs.pip.distribution.sol.onetick.com/static/getting_started/root.html"
   ]
  }
 ],
 "metadata": {
  "kernelspec": {
   "display_name": "Python 3 (ipykernel)",
   "language": "python",
   "name": "python3"
  },
  "language_info": {
   "codemirror_mode": {
    "name": "ipython",
    "version": 3
   },
   "file_extension": ".py",
   "mimetype": "text/x-python",
   "name": "python",
   "nbconvert_exporter": "python",
   "pygments_lexer": "ipython3",
   "version": "3.9.8"
  }
 },
 "nbformat": 4,
 "nbformat_minor": 5
}
