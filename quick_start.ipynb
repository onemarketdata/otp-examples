{
 "cells": [
  {
   "cell_type": "markdown",
   "id": "1245c5f9",
   "metadata": {},
   "source": [
    "# Quick Start\n",
    "onetick-py is a pandas-like API for querying data (in particular, tick-by-tick [market data](https://www.onetick.com/market-data)) in [OneTick](https://www.onetick.com/time-series-database). This notebooks follows common business use cases to illustrate how they can be implemented with onetick-py.\n",
    "\n"
   ]
  },
  {
   "cell_type": "code",
   "execution_count": 12,
   "id": "43896375-8a4a-431d-9eb0-f3d5c6817b27",
   "metadata": {},
   "outputs": [],
   "source": [
    "# %%capture\n",
    "# !pip install -U onetick.py"
   ]
  },
  {
   "cell_type": "code",
   "execution_count": 13,
   "id": "63e03882",
   "metadata": {},
   "outputs": [
    {
     "name": "stdout",
     "output_type": "stream",
     "text": [
      "1.14.41\n"
     ]
    }
   ],
   "source": [
    "import onetick.py as otp\n",
    "# define some parameters to re-use\n",
    "start = otp.dt(2022, 3, 2, 10)\n",
    "end = otp.dt(2022, 3, 2, 16)\n",
    "emini = 'NQ\\H22' #symbol for Nasdaq-100 E-mini future\n",
    "otp.config['tz'] = 'EST5EDT' # set the timezone\n",
    "print(otp.__version__)\n",
    "import pandas as pd\n",
    "import random\n",
    "import itertools"
   ]
  },
  {
   "cell_type": "markdown",
   "id": "3e9fcf76",
   "metadata": {},
   "source": [
    "# Retrieving data\n",
    "\n",
    "Market data is time series data: i.e., each record or \"tick\" has a timestamp and ticks are ordered by timestamp. Our focus will be on trades, quotes, and order book data. We choose which type of data we look at by specifing the tick type: TRD for trades, QTE for quotes, and PRL for order books. The data is organized by the database, tick type, and security."
   ]
  },
  {
   "cell_type": "code",
   "execution_count": 65,
   "id": "4bc6d8c8",
   "metadata": {},
   "outputs": [
    {
     "name": "stdout",
     "output_type": "stream",
     "text": [
      "<onetick.py.sources.DataSource object at 0x7fd3ed329490>\n"
     ]
    }
   ],
   "source": [
    "# create a query to retrieve data from the TRD tick type of the CME OneTick database\n",
    "trd = otp.DataSource('CME', tick_type='TRD')\n",
    "print(trd)"
   ]
  },
  {
   "cell_type": "markdown",
   "id": "c6131205-9fae-40f2-a772-cce29bd5a7f4",
   "metadata": {},
   "source": [
    "Observe that the output is a onetick-py DataSource object rather than the data. To retrieve the data into a pandas DataFrame, we invoke the `otp.run` method while providing it the time range and the symbols (instead `otp.run()`, we can use the shorthand `trd.to_df()` or just `trd()`)."
   ]
  },
  {
   "cell_type": "code",
   "execution_count": 66,
   "id": "69c62384",
   "metadata": {},
   "outputs": [
    {
     "name": "stdout",
     "output_type": "stream",
     "text": [
      "                              Time           EXCH_TIME     PRICE  SIZE AGGRESSOR_SIDE TRADE_TYPE TRADE_PERIOD BOOK_TYPE   TRADE_ID   BUY_ORDER_ID  SELL_ORDER_ID        DELETED_TIME  TICK_STATUS  OMDSEQ\n",
      "0    2022-03-02 10:00:00.000789627 1969-12-31 19:00:00  14074.75     1              S          -            -         0  236995996  6830860875515  6830860875655 1969-12-31 19:00:00            0       7\n",
      "1    2022-03-02 10:00:00.000929635 1969-12-31 19:00:00  14075.75     1              B          -            -         0  236996008  6830860875705  6830860875691 1969-12-31 19:00:00            0      25\n",
      "2    2022-03-02 10:00:00.000929635 1969-12-31 19:00:00  14076.00     1              B          -            -         0  236996009  6830860875705  6830860875569 1969-12-31 19:00:00            0      26\n",
      "3    2022-03-02 10:00:00.000929635 1969-12-31 19:00:00  14076.00     1              B          -            -         0  236996009  6830860875705  6830860875694 1969-12-31 19:00:00            0      27\n",
      "4    2022-03-02 10:00:00.002409827 1969-12-31 19:00:00  14075.75     1              B          -            -         0  236996017  6830860875820  6830860875752 1969-12-31 19:00:00            0       6\n",
      "...                            ...                 ...       ...   ...            ...        ...          ...       ...        ...            ...            ...                 ...          ...     ...\n",
      "1295 2022-03-02 10:00:59.721897255 1969-12-31 19:00:00  14078.50     1              B          -            -         0  237002551  6830861044714  6830861044694 1969-12-31 19:00:00            0      26\n",
      "1296 2022-03-02 10:00:59.765659765 1969-12-31 19:00:00  14078.75     1              B          -            -         0  237002557  6830861044831  6830861044659 1969-12-31 19:00:00            0       0\n",
      "1297 2022-03-02 10:00:59.765659765 1969-12-31 19:00:00  14078.75     1              B          -            -         0  237002557  6830861044831  6830861044742 1969-12-31 19:00:00            0       1\n",
      "1298 2022-03-02 10:00:59.797208925 1969-12-31 19:00:00  14077.75     1              S          -            -         0  237002575  6830861044437  6830861045124 1969-12-31 19:00:00            0       0\n",
      "1299 2022-03-02 10:00:59.797208925 1969-12-31 19:00:00  14077.75     1              S          -            -         0  237002575  6830861044482  6830861045124 1969-12-31 19:00:00            0       1\n",
      "\n",
      "[1300 rows x 14 columns]\n"
     ]
    }
   ],
   "source": [
    "trd_df = otp.run(trd, start=otp.dt(2022, 3, 2, 10), end=otp.dt(2022, 3, 2, 10, 1), symbols='NQ\\H22')\n",
    "print(trd_df)"
   ]
  },
  {
   "cell_type": "markdown",
   "id": "d675a80c-ad7c-418f-ae29-e0707c6bb895",
   "metadata": {},
   "source": [
    "We would rarely want to just retrieve market data (except for plotting it). Typical use cases involve computing analytics based on the tick-by-tick data. This is what onetick-py makes easy to do while keeping all of the processing in the highly optimized, parallelizable, and scalable tick management platform OneTick. The results of the analytics are returned into Python when the query is executed. We cover a few standard use cases next."
   ]
  },
  {
   "cell_type": "markdown",
   "id": "99458c91",
   "metadata": {},
   "source": [
    "# Create minute bars from tick data\n",
    "The code below prepares a query (a onetick-py DataSource object) to compute minute bars."
   ]
  },
  {
   "cell_type": "code",
   "execution_count": 64,
   "id": "576590cc",
   "metadata": {},
   "outputs": [
    {
     "name": "stdout",
     "output_type": "stream",
     "text": [
      "<onetick.py.sources.DataSource object at 0x7fd3ec49cc10>\n"
     ]
    }
   ],
   "source": [
    "trd = otp.DataSource('CME', tick_type='TRD')\n",
    "bars = trd.agg({'VOLUME': otp.agg.sum('SIZE'),\n",
    "               'HIGH': otp.agg.max('PRICE'),\n",
    "               'LOW': otp.agg.min('PRICE'),\n",
    "               'OPEN': otp.agg.first('PRICE'),\n",
    "                'COUNT': otp.agg.count(),\n",
    "               'CLOSE': otp.agg.last('PRICE')},\n",
    "               bucket_interval=60)\n",
    "print(bars)"
   ]
  },
  {
   "cell_type": "markdown",
   "id": "fe7c6f0b-da41-4a90-8f1d-ca9539a1f6d5",
   "metadata": {},
   "source": [
    "Only the bars, not the tick-by-tick trades used to compute them, are passed to Python when the query is executed."
   ]
  },
  {
   "cell_type": "code",
   "execution_count": 17,
   "id": "93f9cd55-a214-4b3d-9d43-f761551d7948",
   "metadata": {},
   "outputs": [
    {
     "data": {
      "text/html": [
       "<div>\n",
       "<style scoped>\n",
       "    .dataframe tbody tr th:only-of-type {\n",
       "        vertical-align: middle;\n",
       "    }\n",
       "\n",
       "    .dataframe tbody tr th {\n",
       "        vertical-align: top;\n",
       "    }\n",
       "\n",
       "    .dataframe thead th {\n",
       "        text-align: right;\n",
       "    }\n",
       "</style>\n",
       "<table border=\"1\" class=\"dataframe\">\n",
       "  <thead>\n",
       "    <tr style=\"text-align: right;\">\n",
       "      <th></th>\n",
       "      <th>Time</th>\n",
       "      <th>VOLUME</th>\n",
       "      <th>HIGH</th>\n",
       "      <th>LOW</th>\n",
       "      <th>OPEN</th>\n",
       "      <th>COUNT</th>\n",
       "      <th>CLOSE</th>\n",
       "    </tr>\n",
       "  </thead>\n",
       "  <tbody>\n",
       "    <tr>\n",
       "      <th>0</th>\n",
       "      <td>2022-03-02 10:01:00</td>\n",
       "      <td>1348</td>\n",
       "      <td>14085.00</td>\n",
       "      <td>14069.75</td>\n",
       "      <td>14074.75</td>\n",
       "      <td>1300</td>\n",
       "      <td>14077.75</td>\n",
       "    </tr>\n",
       "    <tr>\n",
       "      <th>1</th>\n",
       "      <td>2022-03-02 10:02:00</td>\n",
       "      <td>1558</td>\n",
       "      <td>14083.25</td>\n",
       "      <td>14066.25</td>\n",
       "      <td>14079.25</td>\n",
       "      <td>1485</td>\n",
       "      <td>14077.75</td>\n",
       "    </tr>\n",
       "    <tr>\n",
       "      <th>2</th>\n",
       "      <td>2022-03-02 10:03:00</td>\n",
       "      <td>1400</td>\n",
       "      <td>14091.75</td>\n",
       "      <td>14067.75</td>\n",
       "      <td>14077.50</td>\n",
       "      <td>1333</td>\n",
       "      <td>14084.75</td>\n",
       "    </tr>\n",
       "    <tr>\n",
       "      <th>3</th>\n",
       "      <td>2022-03-02 10:04:00</td>\n",
       "      <td>1721</td>\n",
       "      <td>14095.00</td>\n",
       "      <td>14071.25</td>\n",
       "      <td>14084.25</td>\n",
       "      <td>1594</td>\n",
       "      <td>14084.25</td>\n",
       "    </tr>\n",
       "    <tr>\n",
       "      <th>4</th>\n",
       "      <td>2022-03-02 10:05:00</td>\n",
       "      <td>1493</td>\n",
       "      <td>14098.50</td>\n",
       "      <td>14075.50</td>\n",
       "      <td>14084.00</td>\n",
       "      <td>1361</td>\n",
       "      <td>14096.75</td>\n",
       "    </tr>\n",
       "    <tr>\n",
       "      <th>...</th>\n",
       "      <td>...</td>\n",
       "      <td>...</td>\n",
       "      <td>...</td>\n",
       "      <td>...</td>\n",
       "      <td>...</td>\n",
       "      <td>...</td>\n",
       "      <td>...</td>\n",
       "    </tr>\n",
       "    <tr>\n",
       "      <th>355</th>\n",
       "      <td>2022-03-02 15:56:00</td>\n",
       "      <td>2499</td>\n",
       "      <td>14273.50</td>\n",
       "      <td>14250.25</td>\n",
       "      <td>14273.25</td>\n",
       "      <td>2343</td>\n",
       "      <td>14256.00</td>\n",
       "    </tr>\n",
       "    <tr>\n",
       "      <th>356</th>\n",
       "      <td>2022-03-02 15:57:00</td>\n",
       "      <td>1283</td>\n",
       "      <td>14259.75</td>\n",
       "      <td>14252.75</td>\n",
       "      <td>14256.25</td>\n",
       "      <td>1149</td>\n",
       "      <td>14254.25</td>\n",
       "    </tr>\n",
       "    <tr>\n",
       "      <th>357</th>\n",
       "      <td>2022-03-02 15:58:00</td>\n",
       "      <td>2970</td>\n",
       "      <td>14257.75</td>\n",
       "      <td>14240.00</td>\n",
       "      <td>14253.75</td>\n",
       "      <td>2511</td>\n",
       "      <td>14244.75</td>\n",
       "    </tr>\n",
       "    <tr>\n",
       "      <th>358</th>\n",
       "      <td>2022-03-02 15:59:00</td>\n",
       "      <td>3834</td>\n",
       "      <td>14246.50</td>\n",
       "      <td>14235.00</td>\n",
       "      <td>14244.50</td>\n",
       "      <td>3103</td>\n",
       "      <td>14239.75</td>\n",
       "    </tr>\n",
       "    <tr>\n",
       "      <th>359</th>\n",
       "      <td>2022-03-02 16:00:00</td>\n",
       "      <td>6923</td>\n",
       "      <td>14255.25</td>\n",
       "      <td>14231.00</td>\n",
       "      <td>14239.50</td>\n",
       "      <td>5290</td>\n",
       "      <td>14237.50</td>\n",
       "    </tr>\n",
       "  </tbody>\n",
       "</table>\n",
       "<p>360 rows × 7 columns</p>\n",
       "</div>"
      ],
      "text/plain": [
       "                   Time  VOLUME      HIGH       LOW      OPEN  COUNT     CLOSE\n",
       "0   2022-03-02 10:01:00    1348  14085.00  14069.75  14074.75   1300  14077.75\n",
       "1   2022-03-02 10:02:00    1558  14083.25  14066.25  14079.25   1485  14077.75\n",
       "2   2022-03-02 10:03:00    1400  14091.75  14067.75  14077.50   1333  14084.75\n",
       "3   2022-03-02 10:04:00    1721  14095.00  14071.25  14084.25   1594  14084.25\n",
       "4   2022-03-02 10:05:00    1493  14098.50  14075.50  14084.00   1361  14096.75\n",
       "..                  ...     ...       ...       ...       ...    ...       ...\n",
       "355 2022-03-02 15:56:00    2499  14273.50  14250.25  14273.25   2343  14256.00\n",
       "356 2022-03-02 15:57:00    1283  14259.75  14252.75  14256.25   1149  14254.25\n",
       "357 2022-03-02 15:58:00    2970  14257.75  14240.00  14253.75   2511  14244.75\n",
       "358 2022-03-02 15:59:00    3834  14246.50  14235.00  14244.50   3103  14239.75\n",
       "359 2022-03-02 16:00:00    6923  14255.25  14231.00  14239.50   5290  14237.50\n",
       "\n",
       "[360 rows x 7 columns]"
      ]
     },
     "execution_count": 17,
     "metadata": {},
     "output_type": "execute_result"
    }
   ],
   "source": [
    "bars_df = otp.run(bars, start=start, end=end, symbols=emini)\n",
    "bars_df"
   ]
  },
  {
   "cell_type": "markdown",
   "id": "0ab94bd1-6ce7-429c-af2a-a313988bf2dd",
   "metadata": {},
   "source": [
    "Quick tip: you can display documentation for any object by typing \"?\" after it."
   ]
  },
  {
   "cell_type": "code",
   "execution_count": 18,
   "id": "10f01882-5d13-4ab3-b6f8-482258664836",
   "metadata": {},
   "outputs": [
    {
     "data": {
      "text/plain": [
       "\u001b[0;31mSignature:\u001b[0m \u001b[0motp\u001b[0m\u001b[0;34m.\u001b[0m\u001b[0mmath\u001b[0m\u001b[0;34m.\u001b[0m\u001b[0mexp\u001b[0m\u001b[0;34m(\u001b[0m\u001b[0mvalue\u001b[0m\u001b[0;34m)\u001b[0m\u001b[0;34m\u001b[0m\u001b[0;34m\u001b[0m\u001b[0m\n",
       "\u001b[0;31mDocstring:\u001b[0m\n",
       "Compute the natural exponent of the `value`.\n",
       "\n",
       "Parameters\n",
       "----------\n",
       "value: int, float, onetick.py.Operation, onetick.py.Column\n",
       "\n",
       "Return\n",
       "------\n",
       "    onetick.py.Operation\n",
       "\n",
       "Examples\n",
       "--------\n",
       ">>> data = otp.Tick(A=1)\n",
       ">>> data['E'] = otp.math.exp(1)\n",
       ">>> data.to_df()\n",
       "        Time  A         E\n",
       "0 2003-12-01  1  2.718282\n",
       "\n",
       "See Also\n",
       "--------\n",
       "onetick.py.math.ln\n",
       "\u001b[0;31mFile:\u001b[0m      /usr/local/lib/python3.9/site-packages/onetick/py/math.py\n",
       "\u001b[0;31mType:\u001b[0m      function\n"
      ]
     },
     "metadata": {},
     "output_type": "display_data"
    }
   ],
   "source": [
    "otp.math.exp?"
   ]
  },
  {
   "cell_type": "markdown",
   "id": "a8b4ee84",
   "metadata": {},
   "source": [
    "# Filters\n",
    "Filters are specified the same way as in pandas DataFrames with one caveat. Two objects are returned instead of one: one for to the ticks that pass the filter and the other for the ticks that don't (which you can store in `_` if you don't need it). We show an example of how to use both objects when we cover advanced concepts [below](#Filters:-using-both-if-and-else-branches)."
   ]
  },
  {
   "cell_type": "code",
   "execution_count": 67,
   "id": "6299ab38",
   "metadata": {},
   "outputs": [
    {
     "name": "stdout",
     "output_type": "stream",
     "text": [
      "<onetick.py.sources.DataSource object at 0x7fd3ed32f040>\n",
      "                           Time           EXCH_TIME     PRICE  SIZE AGGRESSOR_SIDE TRADE_TYPE TRADE_PERIOD BOOK_TYPE   TRADE_ID   BUY_ORDER_ID  SELL_ORDER_ID        DELETED_TIME  TICK_STATUS  OMDSEQ\n",
      "0 2022-03-02 10:00:00.000789627 1969-12-31 19:00:00  14074.75     1              S          -            -         0  236995996  6830860875515  6830860875655 1969-12-31 19:00:00            0       7\n",
      "1 2022-03-02 10:00:00.000929635 1969-12-31 19:00:00  14075.75     1              B          -            -         0  236996008  6830860875705  6830860875691 1969-12-31 19:00:00            0      25\n",
      "2 2022-03-02 10:00:00.000929635 1969-12-31 19:00:00  14076.00     1              B          -            -         0  236996009  6830860875705  6830860875569 1969-12-31 19:00:00            0      26\n",
      "3 2022-03-02 10:00:00.000929635 1969-12-31 19:00:00  14076.00     1              B          -            -         0  236996009  6830860875705  6830860875694 1969-12-31 19:00:00            0      27\n",
      "4 2022-03-02 10:00:00.002409827 1969-12-31 19:00:00  14075.75     1              B          -            -         0  236996017  6830860875820  6830860875752 1969-12-31 19:00:00            0       6\n"
     ]
    }
   ],
   "source": [
    "trd = otp.DataSource('CME', tick_type='TRD')\n",
    "trd, _ = trd[(trd['TRADE_PERIOD'] != 'A') & (trd['TRADE_TYPE'] != 'LEG')] # keep only non-leg and non-auction trades\n",
    "trd = trd.first(5) # retrieve the first 5 records only\n",
    "print(trd) # no data retrieval has been done yet\n",
    "print(otp.run(trd, start=start, end=end, symbols=emini))"
   ]
  },
  {
   "cell_type": "markdown",
   "id": "6be9aeee-218e-4efb-8aaa-4c11aebd8d13",
   "metadata": {},
   "source": [
    "<div class=\"alert alert-block alert-info\">\n",
    "Note: All code before `otp.run()` is executed in OneTick rather than in pandas/Python.\n",
    "</div>"
   ]
  },
  {
   "cell_type": "markdown",
   "id": "789754bd",
   "metadata": {},
   "source": [
    "# Prevailing quote at the time of a trade\n",
    "onetick-py provides some functions that are specific to time series analysis and do not exist in pandas. Joining two time series by time is one of such functions that makes finding the prevailing quote at the time of each trade a one-liner."
   ]
  },
  {
   "cell_type": "code",
   "execution_count": 20,
   "id": "76e3a2c9",
   "metadata": {},
   "outputs": [
    {
     "data": {
      "text/html": [
       "<div>\n",
       "<style scoped>\n",
       "    .dataframe tbody tr th:only-of-type {\n",
       "        vertical-align: middle;\n",
       "    }\n",
       "\n",
       "    .dataframe tbody tr th {\n",
       "        vertical-align: top;\n",
       "    }\n",
       "\n",
       "    .dataframe thead th {\n",
       "        text-align: right;\n",
       "    }\n",
       "</style>\n",
       "<table border=\"1\" class=\"dataframe\">\n",
       "  <thead>\n",
       "    <tr style=\"text-align: right;\">\n",
       "      <th></th>\n",
       "      <th>Time</th>\n",
       "      <th>PRICE</th>\n",
       "      <th>SIZE</th>\n",
       "      <th>TRADE_TYPE</th>\n",
       "      <th>ASK_PRICE</th>\n",
       "      <th>BID_PRICE</th>\n",
       "      <th>quote_time</th>\n",
       "    </tr>\n",
       "  </thead>\n",
       "  <tbody>\n",
       "    <tr>\n",
       "      <th>0</th>\n",
       "      <td>2022-03-02 10:00:00.000789627</td>\n",
       "      <td>14074.75</td>\n",
       "      <td>1</td>\n",
       "      <td>-</td>\n",
       "      <td>14076.00</td>\n",
       "      <td>14074.75</td>\n",
       "      <td>2022-03-02 10:00:00.000788627</td>\n",
       "    </tr>\n",
       "    <tr>\n",
       "      <th>1</th>\n",
       "      <td>2022-03-02 10:00:00.000929635</td>\n",
       "      <td>14075.75</td>\n",
       "      <td>1</td>\n",
       "      <td>-</td>\n",
       "      <td>14075.75</td>\n",
       "      <td>14074.25</td>\n",
       "      <td>2022-03-02 10:00:00.000860873</td>\n",
       "    </tr>\n",
       "    <tr>\n",
       "      <th>2</th>\n",
       "      <td>2022-03-02 10:00:00.000929635</td>\n",
       "      <td>14076.00</td>\n",
       "      <td>1</td>\n",
       "      <td>-</td>\n",
       "      <td>14075.75</td>\n",
       "      <td>14074.25</td>\n",
       "      <td>2022-03-02 10:00:00.000860873</td>\n",
       "    </tr>\n",
       "    <tr>\n",
       "      <th>3</th>\n",
       "      <td>2022-03-02 10:00:00.000929635</td>\n",
       "      <td>14076.00</td>\n",
       "      <td>1</td>\n",
       "      <td>-</td>\n",
       "      <td>14075.75</td>\n",
       "      <td>14074.25</td>\n",
       "      <td>2022-03-02 10:00:00.000860873</td>\n",
       "    </tr>\n",
       "    <tr>\n",
       "      <th>4</th>\n",
       "      <td>2022-03-02 10:00:00.002409827</td>\n",
       "      <td>14075.75</td>\n",
       "      <td>1</td>\n",
       "      <td>-</td>\n",
       "      <td>14075.75</td>\n",
       "      <td>14075.00</td>\n",
       "      <td>2022-03-02 10:00:00.001767875</td>\n",
       "    </tr>\n",
       "  </tbody>\n",
       "</table>\n",
       "</div>"
      ],
      "text/plain": [
       "                           Time     PRICE  SIZE TRADE_TYPE  ASK_PRICE  BID_PRICE                    quote_time\n",
       "0 2022-03-02 10:00:00.000789627  14074.75     1          -   14076.00   14074.75 2022-03-02 10:00:00.000788627\n",
       "1 2022-03-02 10:00:00.000929635  14075.75     1          -   14075.75   14074.25 2022-03-02 10:00:00.000860873\n",
       "2 2022-03-02 10:00:00.000929635  14076.00     1          -   14075.75   14074.25 2022-03-02 10:00:00.000860873\n",
       "3 2022-03-02 10:00:00.000929635  14076.00     1          -   14075.75   14074.25 2022-03-02 10:00:00.000860873\n",
       "4 2022-03-02 10:00:00.002409827  14075.75     1          -   14075.75   14075.00 2022-03-02 10:00:00.001767875"
      ]
     },
     "execution_count": 20,
     "metadata": {},
     "output_type": "execute_result"
    }
   ],
   "source": [
    "trd = otp.DataSource('CME', tick_type='TRD')\n",
    "trd = trd[['PRICE', 'SIZE', 'TRADE_TYPE']] # just need these fields\n",
    "\n",
    "qte = otp.DataSource('CME', tick_type='QTE')\n",
    "qte['quote_time'] = qte['Time']\n",
    "qte = qte[['ASK_PRICE', 'BID_PRICE', 'quote_time']] # just need these fields\n",
    "\n",
    "# the first argument in the list (`trd` in this example) is the \"leading\" source\n",
    "# all of the ticks from the leading source are enriched with the closest preceding \n",
    "# record from the non-leading source(s) (`qte` in this example).\n",
    "enriched_trades = otp.join_by_time([trd, qte])\n",
    "\n",
    "enriched_trades = enriched_trades.first(5)\n",
    "\n",
    "otp.run(enriched_trades, start=start, end=end, symbols=emini)"
   ]
  },
  {
   "cell_type": "markdown",
   "id": "033a47f8",
   "metadata": {},
   "source": [
    "# Interval VWAP between order arrival and exit\n",
    "Common TCA/BestEx use cases involve getting interval benchmarks such as market VWAP and market volume for each order. First we show how to compute the market volume and the VWAP for a single interval."
   ]
  },
  {
   "cell_type": "code",
   "execution_count": 21,
   "id": "6efe7305",
   "metadata": {},
   "outputs": [
    {
     "data": {
      "text/html": [
       "<div>\n",
       "<style scoped>\n",
       "    .dataframe tbody tr th:only-of-type {\n",
       "        vertical-align: middle;\n",
       "    }\n",
       "\n",
       "    .dataframe tbody tr th {\n",
       "        vertical-align: top;\n",
       "    }\n",
       "\n",
       "    .dataframe thead th {\n",
       "        text-align: right;\n",
       "    }\n",
       "</style>\n",
       "<table border=\"1\" class=\"dataframe\">\n",
       "  <thead>\n",
       "    <tr style=\"text-align: right;\">\n",
       "      <th></th>\n",
       "      <th>Time</th>\n",
       "      <th>VOLUME</th>\n",
       "      <th>VWAP</th>\n",
       "    </tr>\n",
       "  </thead>\n",
       "  <tbody>\n",
       "    <tr>\n",
       "      <th>0</th>\n",
       "      <td>2022-03-02 16:00:00</td>\n",
       "      <td>367803</td>\n",
       "      <td>14154.354845</td>\n",
       "    </tr>\n",
       "  </tbody>\n",
       "</table>\n",
       "</div>"
      ],
      "text/plain": [
       "                 Time  VOLUME          VWAP\n",
       "0 2022-03-02 16:00:00  367803  14154.354845"
      ]
     },
     "execution_count": 21,
     "metadata": {},
     "output_type": "execute_result"
    }
   ],
   "source": [
    "q = otp.DataSource('CME', tick_type='TRD')\n",
    "q = q.agg({\n",
    "'VOLUME': otp.agg.sum('SIZE'),\n",
    "'VWAP': otp.agg.vwap('PRICE', 'SIZE')\n",
    "})\n",
    "otp.run(q, start=start, end=end, symbols=emini)"
   ]
  },
  {
   "cell_type": "markdown",
   "id": "8594f2c1",
   "metadata": {},
   "source": [
    "Next we compute interval metrics for each of the orders arrival/exit intervals.\n",
    "\n",
    "First we generate a simulated set of orders. Note that the orders/executions can come from any source (e.g., CSV file, FIX log file, database, Python object, OneTick database, etc)."
   ]
  },
  {
   "cell_type": "code",
   "execution_count": 22,
   "id": "aa538e98-2229-4ec5-831a-ee8388745c1c",
   "metadata": {},
   "outputs": [
    {
     "data": {
      "text/html": [
       "<div>\n",
       "<style scoped>\n",
       "    .dataframe tbody tr th:only-of-type {\n",
       "        vertical-align: middle;\n",
       "    }\n",
       "\n",
       "    .dataframe tbody tr th {\n",
       "        vertical-align: top;\n",
       "    }\n",
       "\n",
       "    .dataframe thead th {\n",
       "        text-align: right;\n",
       "    }\n",
       "</style>\n",
       "<table border=\"1\" class=\"dataframe\">\n",
       "  <thead>\n",
       "    <tr style=\"text-align: right;\">\n",
       "      <th></th>\n",
       "      <th>arrival_time</th>\n",
       "      <th>exit_time</th>\n",
       "      <th>ID</th>\n",
       "      <th>SYMBOL_NAME</th>\n",
       "    </tr>\n",
       "  </thead>\n",
       "  <tbody>\n",
       "    <tr>\n",
       "      <th>0</th>\n",
       "      <td>2022-03-02 10:00:00</td>\n",
       "      <td>2022-03-02 10:00:04.790000</td>\n",
       "      <td>0</td>\n",
       "      <td>NQ\\H22</td>\n",
       "    </tr>\n",
       "    <tr>\n",
       "      <th>1</th>\n",
       "      <td>2022-03-02 10:00:00.500000</td>\n",
       "      <td>2022-03-02 10:00:05.839000</td>\n",
       "      <td>1</td>\n",
       "      <td>NQ\\H22</td>\n",
       "    </tr>\n",
       "    <tr>\n",
       "      <th>2</th>\n",
       "      <td>2022-03-02 10:00:01</td>\n",
       "      <td>2022-03-02 10:00:10.150000</td>\n",
       "      <td>2</td>\n",
       "      <td>ES\\H22</td>\n",
       "    </tr>\n",
       "    <tr>\n",
       "      <th>3</th>\n",
       "      <td>2022-03-02 10:00:01.500000</td>\n",
       "      <td>2022-03-02 10:00:08.854000</td>\n",
       "      <td>3</td>\n",
       "      <td>NQ\\H22</td>\n",
       "    </tr>\n",
       "    <tr>\n",
       "      <th>4</th>\n",
       "      <td>2022-03-02 10:00:02</td>\n",
       "      <td>2022-03-02 10:00:08.729000</td>\n",
       "      <td>4</td>\n",
       "      <td>ES\\H22</td>\n",
       "    </tr>\n",
       "    <tr>\n",
       "      <th>5</th>\n",
       "      <td>2022-03-02 10:00:02.500000</td>\n",
       "      <td>2022-03-02 10:00:09.730000</td>\n",
       "      <td>5</td>\n",
       "      <td>NQ\\H22</td>\n",
       "    </tr>\n",
       "    <tr>\n",
       "      <th>6</th>\n",
       "      <td>2022-03-02 10:00:03</td>\n",
       "      <td>2022-03-02 10:00:04.286000</td>\n",
       "      <td>6</td>\n",
       "      <td>ES\\H22</td>\n",
       "    </tr>\n",
       "    <tr>\n",
       "      <th>7</th>\n",
       "      <td>2022-03-02 10:00:03.500000</td>\n",
       "      <td>2022-03-02 10:00:08.825000</td>\n",
       "      <td>7</td>\n",
       "      <td>NQ\\H22</td>\n",
       "    </tr>\n",
       "    <tr>\n",
       "      <th>8</th>\n",
       "      <td>2022-03-02 10:00:04</td>\n",
       "      <td>2022-03-02 10:00:07.576000</td>\n",
       "      <td>8</td>\n",
       "      <td>ES\\H22</td>\n",
       "    </tr>\n",
       "    <tr>\n",
       "      <th>9</th>\n",
       "      <td>2022-03-02 10:00:04.500000</td>\n",
       "      <td>2022-03-02 10:00:06.878000</td>\n",
       "      <td>9</td>\n",
       "      <td>ES\\H22</td>\n",
       "    </tr>\n",
       "    <tr>\n",
       "      <th>10</th>\n",
       "      <td>2022-03-02 10:00:05</td>\n",
       "      <td>2022-03-02 10:00:09.611000</td>\n",
       "      <td>10</td>\n",
       "      <td>ES\\H22</td>\n",
       "    </tr>\n",
       "    <tr>\n",
       "      <th>11</th>\n",
       "      <td>2022-03-02 10:00:05.500000</td>\n",
       "      <td>2022-03-02 10:00:13.914000</td>\n",
       "      <td>11</td>\n",
       "      <td>NQ\\H22</td>\n",
       "    </tr>\n",
       "    <tr>\n",
       "      <th>12</th>\n",
       "      <td>2022-03-02 10:00:06</td>\n",
       "      <td>2022-03-02 10:00:06.450000</td>\n",
       "      <td>12</td>\n",
       "      <td>NQ\\H22</td>\n",
       "    </tr>\n",
       "    <tr>\n",
       "      <th>13</th>\n",
       "      <td>2022-03-02 10:00:06.500000</td>\n",
       "      <td>2022-03-02 10:00:09.744000</td>\n",
       "      <td>13</td>\n",
       "      <td>ES\\H22</td>\n",
       "    </tr>\n",
       "    <tr>\n",
       "      <th>14</th>\n",
       "      <td>2022-03-02 10:00:07</td>\n",
       "      <td>2022-03-02 10:00:08.672000</td>\n",
       "      <td>14</td>\n",
       "      <td>NQ\\H22</td>\n",
       "    </tr>\n",
       "    <tr>\n",
       "      <th>15</th>\n",
       "      <td>2022-03-02 10:00:07.500000</td>\n",
       "      <td>2022-03-02 10:00:12.303000</td>\n",
       "      <td>15</td>\n",
       "      <td>NQ\\H22</td>\n",
       "    </tr>\n",
       "    <tr>\n",
       "      <th>16</th>\n",
       "      <td>2022-03-02 10:00:08</td>\n",
       "      <td>2022-03-02 10:00:08.635000</td>\n",
       "      <td>16</td>\n",
       "      <td>NQ\\H22</td>\n",
       "    </tr>\n",
       "    <tr>\n",
       "      <th>17</th>\n",
       "      <td>2022-03-02 10:00:08.500000</td>\n",
       "      <td>2022-03-02 10:00:13.699000</td>\n",
       "      <td>17</td>\n",
       "      <td>NQ\\H22</td>\n",
       "    </tr>\n",
       "    <tr>\n",
       "      <th>18</th>\n",
       "      <td>2022-03-02 10:00:09</td>\n",
       "      <td>2022-03-02 10:00:15.443000</td>\n",
       "      <td>18</td>\n",
       "      <td>NQ\\H22</td>\n",
       "    </tr>\n",
       "    <tr>\n",
       "      <th>19</th>\n",
       "      <td>2022-03-02 10:00:09.500000</td>\n",
       "      <td>2022-03-02 10:00:17.509000</td>\n",
       "      <td>19</td>\n",
       "      <td>ES\\H22</td>\n",
       "    </tr>\n",
       "  </tbody>\n",
       "</table>\n",
       "</div>"
      ],
      "text/plain": [
       "                  arrival_time                   exit_time  ID SYMBOL_NAME\n",
       "0          2022-03-02 10:00:00  2022-03-02 10:00:04.790000   0      NQ\\H22\n",
       "1   2022-03-02 10:00:00.500000  2022-03-02 10:00:05.839000   1      NQ\\H22\n",
       "2          2022-03-02 10:00:01  2022-03-02 10:00:10.150000   2      ES\\H22\n",
       "3   2022-03-02 10:00:01.500000  2022-03-02 10:00:08.854000   3      NQ\\H22\n",
       "4          2022-03-02 10:00:02  2022-03-02 10:00:08.729000   4      ES\\H22\n",
       "5   2022-03-02 10:00:02.500000  2022-03-02 10:00:09.730000   5      NQ\\H22\n",
       "6          2022-03-02 10:00:03  2022-03-02 10:00:04.286000   6      ES\\H22\n",
       "7   2022-03-02 10:00:03.500000  2022-03-02 10:00:08.825000   7      NQ\\H22\n",
       "8          2022-03-02 10:00:04  2022-03-02 10:00:07.576000   8      ES\\H22\n",
       "9   2022-03-02 10:00:04.500000  2022-03-02 10:00:06.878000   9      ES\\H22\n",
       "10         2022-03-02 10:00:05  2022-03-02 10:00:09.611000  10      ES\\H22\n",
       "11  2022-03-02 10:00:05.500000  2022-03-02 10:00:13.914000  11      NQ\\H22\n",
       "12         2022-03-02 10:00:06  2022-03-02 10:00:06.450000  12      NQ\\H22\n",
       "13  2022-03-02 10:00:06.500000  2022-03-02 10:00:09.744000  13      ES\\H22\n",
       "14         2022-03-02 10:00:07  2022-03-02 10:00:08.672000  14      NQ\\H22\n",
       "15  2022-03-02 10:00:07.500000  2022-03-02 10:00:12.303000  15      NQ\\H22\n",
       "16         2022-03-02 10:00:08  2022-03-02 10:00:08.635000  16      NQ\\H22\n",
       "17  2022-03-02 10:00:08.500000  2022-03-02 10:00:13.699000  17      NQ\\H22\n",
       "18         2022-03-02 10:00:09  2022-03-02 10:00:15.443000  18      NQ\\H22\n",
       "19  2022-03-02 10:00:09.500000  2022-03-02 10:00:17.509000  19      ES\\H22"
      ]
     },
     "execution_count": 22,
     "metadata": {},
     "output_type": "execute_result"
    }
   ],
   "source": [
    "num_orders = 20\n",
    "arrival_time = [otp.dt(2022, 3, 2, 10) + otp.Milli(x*500) for x in range(0, num_orders)]\n",
    "exit_time = [x + otp.Milli(random.randint(100,10000)) for x in arrival_time]\n",
    "symbols = ['NQ\\H22', 'ES\\H22']\n",
    "\n",
    "order_df = pd.DataFrame({\n",
    "    'arrival_time': arrival_time, \n",
    "    'exit_time': exit_time, \n",
    "    'ID': [x for x in range(0, num_orders)],\n",
    "    'SYMBOL_NAME': [random.choice(symbols) for x in range(0, num_orders)],\n",
    "})\n",
    "order_df"
   ]
  },
  {
   "cell_type": "markdown",
   "id": "e0fb8ad2-53c3-49e8-a7ed-dacbb3d0aa29",
   "metadata": {},
   "source": [
    "Set up the fields that will enable us to query market trades for symbol and the arrival/exit interval of each order in parallel."
   ]
  },
  {
   "cell_type": "code",
   "execution_count": 23,
   "id": "473a87d0-1796-4ad4-be16-9fd89bed136f",
   "metadata": {},
   "outputs": [],
   "source": [
    "# convert the DataFrame with orders into a onetick-py object to enable calls to onetick-py functions\n",
    "order = otp.Ticks(order_df.to_dict(orient='list'))\n",
    "\n",
    "order['_PARAM_START_TIME_NANOS'] = order['arrival_time'] # this will be the start time of the query\n",
    "order['_PARAM_END_TIME_NANOS'] = order['exit_time'] # this will be the end time of the query\n",
    "# another relevant field is SYMBOL_NAME (already specified) which will be used as the symbol for the query"
   ]
  },
  {
   "cell_type": "markdown",
   "id": "326658ba-df0b-44d1-899e-07fcbeed2005",
   "metadata": {},
   "source": [
    "We can now define a function to compute VWAP and volume for each order. The function takes an argument (`symbol`) that is passed automatically when and the order specific info we defined above."
   ]
  },
  {
   "cell_type": "code",
   "execution_count": 24,
   "id": "e0d8ecf5",
   "metadata": {},
   "outputs": [],
   "source": [
    "def market_volume_and_vwap(symbol):\n",
    "    trd = otp.DataSource('CME', tick_type='TRD')\n",
    "    vol_vwap = trd.agg({\n",
    "    'VOLUME': otp.agg.sum('SIZE'),\n",
    "    'VWAP': otp.agg.vwap('PRICE', 'SIZE')\n",
    "    }, bucket_time='start')\n",
    "    vol_vwap['ID'] = symbol['ID']\n",
    "    vol_vwap['exit_time'] = symbol['exit_time']\n",
    "    vol_vwap['sym'] = symbol.name # SYMBOL_NAME is stored in a special attribute '.name'\n",
    "    \n",
    "    return vol_vwap"
   ]
  },
  {
   "cell_type": "markdown",
   "id": "00351361-e237-4f52-9468-6dc19a77f6d7",
   "metadata": {},
   "source": [
    "`market_volume_and_vwap` can now be executed for each order. The computation is parallelized by symbol."
   ]
  },
  {
   "cell_type": "code",
   "execution_count": 25,
   "id": "3291b80e-0948-409b-be5b-c22903c6aadf",
   "metadata": {},
   "outputs": [],
   "source": [
    "res = otp.run(market_volume_and_vwap, symbols=order, concurrency=8, batch_size=100)"
   ]
  },
  {
   "cell_type": "markdown",
   "id": "a679ca4a-c098-4344-ab5d-31bb54b9f824",
   "metadata": {},
   "source": [
    "The result is a `dict` keyed by symbol."
   ]
  },
  {
   "cell_type": "code",
   "execution_count": 26,
   "id": "bb7950e2-6a76-4200-9164-f75bbca93e42",
   "metadata": {},
   "outputs": [
    {
     "name": "stdout",
     "output_type": "stream",
     "text": [
      "                     Time  VOLUME          VWAP  ID               exit_time     sym\n",
      "0 2022-03-02 05:00:00.000      12  14092.958333   0 2022-03-02 05:00:04.790  NQ\\H22\n",
      "0 2022-03-02 05:00:00.500      12  14092.958333   1 2022-03-02 05:00:05.839  NQ\\H22\n",
      "0 2022-03-02 05:00:01.500      21  14093.369048   3 2022-03-02 05:00:08.854  NQ\\H22\n",
      "0 2022-03-02 05:00:02.500      19  14093.657895   5 2022-03-02 05:00:09.730  NQ\\H22\n",
      "0 2022-03-02 05:00:03.500      16  14093.812500   7 2022-03-02 05:00:08.825  NQ\\H22\n",
      "0 2022-03-02 05:00:05.500      18  14093.791667  11 2022-03-02 05:00:13.914  NQ\\H22\n",
      "0 2022-03-02 05:00:06.000      10  14093.925000  12 2022-03-02 05:00:06.450  NQ\\H22\n",
      "0 2022-03-02 05:00:07.000       4  14093.812500  14 2022-03-02 05:00:08.672  NQ\\H22\n",
      "0 2022-03-02 05:00:07.500       5  14093.850000  15 2022-03-02 05:00:12.303  NQ\\H22\n",
      "0 2022-03-02 05:00:08.000       3  14094.000000  16 2022-03-02 05:00:08.635  NQ\\H22\n",
      "0 2022-03-02 05:00:08.500       2  14093.625000  17 2022-03-02 05:00:13.699  NQ\\H22\n",
      "0 2022-03-02 05:00:09.000       9  14093.777778  18 2022-03-02 05:00:15.443  NQ\\H22\n",
      "                     Time  VOLUME         VWAP  ID               exit_time     sym\n",
      "0 2022-03-02 05:00:01.000      79  4333.512658   2 2022-03-02 05:00:10.150  ES\\H22\n",
      "0 2022-03-02 05:00:02.000      65  4333.526923   4 2022-03-02 05:00:08.729  ES\\H22\n",
      "0 2022-03-02 05:00:03.000       5  4333.250000   6 2022-03-02 05:00:04.286  ES\\H22\n",
      "0 2022-03-02 05:00:04.000      20  4333.412500   8 2022-03-02 05:00:07.576  ES\\H22\n",
      "0 2022-03-02 05:00:04.500      20  4333.412500   9 2022-03-02 05:00:06.878  ES\\H22\n",
      "0 2022-03-02 05:00:05.000      50  4333.660000  10 2022-03-02 05:00:09.611  ES\\H22\n",
      "0 2022-03-02 05:00:06.500      37  4333.716216  13 2022-03-02 05:00:09.744  ES\\H22\n",
      "0 2022-03-02 05:00:09.500      23  4333.771739  19 2022-03-02 05:00:17.509  ES\\H22\n"
     ]
    }
   ],
   "source": [
    "for s in res.keys():\n",
    "    print(pd.concat(res[s]))"
   ]
  },
  {
   "cell_type": "markdown",
   "id": "2d9c7762",
   "metadata": {},
   "source": [
    "# Point-in-time benchmarks: BBO at a given time"
   ]
  },
  {
   "cell_type": "markdown",
   "id": "a493e8a5",
   "metadata": {},
   "source": [
    "Another common use case is find the prevailing quote (best bid/ask) at the time of an execution or at different time intervals (markouts) before/after the execution.\n",
    "\n",
    "The following snippet find the prevailing quote at a give time."
   ]
  },
  {
   "cell_type": "code",
   "execution_count": 27,
   "id": "63b8c0cd-66c2-4d30-8797-7b914f121e74",
   "metadata": {},
   "outputs": [
    {
     "data": {
      "text/html": [
       "<div>\n",
       "<style scoped>\n",
       "    .dataframe tbody tr th:only-of-type {\n",
       "        vertical-align: middle;\n",
       "    }\n",
       "\n",
       "    .dataframe tbody tr th {\n",
       "        vertical-align: top;\n",
       "    }\n",
       "\n",
       "    .dataframe thead th {\n",
       "        text-align: right;\n",
       "    }\n",
       "</style>\n",
       "<table border=\"1\" class=\"dataframe\">\n",
       "  <thead>\n",
       "    <tr style=\"text-align: right;\">\n",
       "      <th></th>\n",
       "      <th>Time</th>\n",
       "      <th>ASK_PRICE</th>\n",
       "      <th>BID_PRICE</th>\n",
       "      <th>BBO_TIME</th>\n",
       "    </tr>\n",
       "  </thead>\n",
       "  <tbody>\n",
       "    <tr>\n",
       "      <th>0</th>\n",
       "      <td>2022-03-01 19:25:48.123456</td>\n",
       "      <td>14058.0</td>\n",
       "      <td>14056.25</td>\n",
       "      <td>2022-03-01 19:25:47.266282997</td>\n",
       "    </tr>\n",
       "  </tbody>\n",
       "</table>\n",
       "</div>"
      ],
      "text/plain": [
       "                        Time  ASK_PRICE  BID_PRICE                      BBO_TIME\n",
       "0 2022-03-01 19:25:48.123456    14058.0   14056.25 2022-03-01 19:25:47.266282997"
      ]
     },
     "execution_count": 27,
     "metadata": {},
     "output_type": "execute_result"
    }
   ],
   "source": [
    "q = otp.DataSource('CME', tick_type='QTE', back_to_first_tick=600, keep_first_tick_timestamp='BBO_TIME')\n",
    "q = q[['ASK_PRICE','BID_PRICE', 'BBO_TIME']]\n",
    "time = otp.dt(2022,3,1,19,25,48,123456)\n",
    "otp.run(q, start=time, end=time, symbols=emini)"
   ]
  },
  {
   "cell_type": "markdown",
   "id": "d3566504-9bcd-4648-9335-d3c893dca003",
   "metadata": {},
   "source": [
    "# Point-in-time benchmarks: BBO at different offsets (markouts)"
   ]
  },
  {
   "cell_type": "markdown",
   "id": "544b3334-4220-480a-beb4-70d13313c77f",
   "metadata": {},
   "source": [
    "We'll find the BBO at different offets in seconds around the time of each execution.\n",
    "\n",
    "We create a simulated set of executions as we did above for orders."
   ]
  },
  {
   "cell_type": "code",
   "execution_count": 28,
   "id": "2ebcad2b-376c-4004-96dd-e83d4bd7bcfc",
   "metadata": {},
   "outputs": [
    {
     "data": {
      "text/html": [
       "<div>\n",
       "<style scoped>\n",
       "    .dataframe tbody tr th:only-of-type {\n",
       "        vertical-align: middle;\n",
       "    }\n",
       "\n",
       "    .dataframe tbody tr th {\n",
       "        vertical-align: top;\n",
       "    }\n",
       "\n",
       "    .dataframe thead th {\n",
       "        text-align: right;\n",
       "    }\n",
       "</style>\n",
       "<table border=\"1\" class=\"dataframe\">\n",
       "  <thead>\n",
       "    <tr style=\"text-align: right;\">\n",
       "      <th></th>\n",
       "      <th>exex_time</th>\n",
       "      <th>ID</th>\n",
       "      <th>SYMBOL_NAME</th>\n",
       "    </tr>\n",
       "  </thead>\n",
       "  <tbody>\n",
       "    <tr>\n",
       "      <th>0</th>\n",
       "      <td>2022-03-02 10:00:00</td>\n",
       "      <td>0</td>\n",
       "      <td>ES\\H22</td>\n",
       "    </tr>\n",
       "    <tr>\n",
       "      <th>1</th>\n",
       "      <td>2022-03-02 10:00:00.500000</td>\n",
       "      <td>1</td>\n",
       "      <td>ES\\H22</td>\n",
       "    </tr>\n",
       "    <tr>\n",
       "      <th>2</th>\n",
       "      <td>2022-03-02 10:00:01</td>\n",
       "      <td>2</td>\n",
       "      <td>ES\\H22</td>\n",
       "    </tr>\n",
       "    <tr>\n",
       "      <th>3</th>\n",
       "      <td>2022-03-02 10:00:01.500000</td>\n",
       "      <td>3</td>\n",
       "      <td>ES\\H22</td>\n",
       "    </tr>\n",
       "    <tr>\n",
       "      <th>4</th>\n",
       "      <td>2022-03-02 10:00:02</td>\n",
       "      <td>4</td>\n",
       "      <td>NQ\\H22</td>\n",
       "    </tr>\n",
       "  </tbody>\n",
       "</table>\n",
       "</div>"
      ],
      "text/plain": [
       "                    exex_time  ID SYMBOL_NAME\n",
       "0         2022-03-02 10:00:00   0      ES\\H22\n",
       "1  2022-03-02 10:00:00.500000   1      ES\\H22\n",
       "2         2022-03-02 10:00:01   2      ES\\H22\n",
       "3  2022-03-02 10:00:01.500000   3      ES\\H22\n",
       "4         2022-03-02 10:00:02   4      NQ\\H22"
      ]
     },
     "execution_count": 28,
     "metadata": {},
     "output_type": "execute_result"
    }
   ],
   "source": [
    "num_execs = 5\n",
    "exec_time = [otp.dt(2022, 3, 2, 10) + otp.Milli(x*500) for x in range(0, num_execs)]\n",
    "symbols = ['NQ\\H22', 'ES\\H22']\n",
    "\n",
    "exec_df = pd.DataFrame({\n",
    "    'exex_time': exec_time, \n",
    "    'ID': [x for x in range(0, num_execs)],\n",
    "    'SYMBOL_NAME': [random.choice(symbols) for x in range(0, num_execs)],\n",
    "})\n",
    "exec_df"
   ]
  },
  {
   "cell_type": "markdown",
   "id": "d9a4792a-e3f1-4535-8a09-875ad2d0f2b6",
   "metadata": {},
   "source": [
    "Create a separate record for each markout with the corresponding timestamp."
   ]
  },
  {
   "cell_type": "code",
   "execution_count": 29,
   "id": "5101af4b-b2a7-478e-9283-3b5322b8a1c0",
   "metadata": {},
   "outputs": [
    {
     "data": {
      "text/html": [
       "<div>\n",
       "<style scoped>\n",
       "    .dataframe tbody tr th:only-of-type {\n",
       "        vertical-align: middle;\n",
       "    }\n",
       "\n",
       "    .dataframe tbody tr th {\n",
       "        vertical-align: top;\n",
       "    }\n",
       "\n",
       "    .dataframe thead th {\n",
       "        text-align: right;\n",
       "    }\n",
       "</style>\n",
       "<table border=\"1\" class=\"dataframe\">\n",
       "  <thead>\n",
       "    <tr style=\"text-align: right;\">\n",
       "      <th></th>\n",
       "      <th>markout_time</th>\n",
       "      <th>ID</th>\n",
       "      <th>SYMBOL_NAME</th>\n",
       "      <th>markout</th>\n",
       "    </tr>\n",
       "  </thead>\n",
       "  <tbody>\n",
       "    <tr>\n",
       "      <th>0</th>\n",
       "      <td>2022-03-02 09:59:59.500000</td>\n",
       "      <td>0</td>\n",
       "      <td>ES\\H22</td>\n",
       "      <td>-0.5</td>\n",
       "    </tr>\n",
       "    <tr>\n",
       "      <th>1</th>\n",
       "      <td>2022-03-02 10:00:00</td>\n",
       "      <td>0</td>\n",
       "      <td>ES\\H22</td>\n",
       "      <td>0.0</td>\n",
       "    </tr>\n",
       "    <tr>\n",
       "      <th>2</th>\n",
       "      <td>2022-03-02 10:00:00.500000</td>\n",
       "      <td>0</td>\n",
       "      <td>ES\\H22</td>\n",
       "      <td>0.5</td>\n",
       "    </tr>\n",
       "    <tr>\n",
       "      <th>3</th>\n",
       "      <td>2022-03-02 10:00:01</td>\n",
       "      <td>0</td>\n",
       "      <td>ES\\H22</td>\n",
       "      <td>1.0</td>\n",
       "    </tr>\n",
       "    <tr>\n",
       "      <th>4</th>\n",
       "      <td>2022-03-02 10:00:05</td>\n",
       "      <td>0</td>\n",
       "      <td>ES\\H22</td>\n",
       "      <td>5.0</td>\n",
       "    </tr>\n",
       "    <tr>\n",
       "      <th>5</th>\n",
       "      <td>2022-03-02 10:00:10</td>\n",
       "      <td>0</td>\n",
       "      <td>ES\\H22</td>\n",
       "      <td>10.0</td>\n",
       "    </tr>\n",
       "    <tr>\n",
       "      <th>6</th>\n",
       "      <td>2022-03-02 10:00:00</td>\n",
       "      <td>1</td>\n",
       "      <td>NQ\\H22</td>\n",
       "      <td>-0.5</td>\n",
       "    </tr>\n",
       "    <tr>\n",
       "      <th>7</th>\n",
       "      <td>2022-03-02 10:00:00.500000</td>\n",
       "      <td>1</td>\n",
       "      <td>NQ\\H22</td>\n",
       "      <td>0.0</td>\n",
       "    </tr>\n",
       "    <tr>\n",
       "      <th>8</th>\n",
       "      <td>2022-03-02 10:00:01</td>\n",
       "      <td>1</td>\n",
       "      <td>NQ\\H22</td>\n",
       "      <td>0.5</td>\n",
       "    </tr>\n",
       "    <tr>\n",
       "      <th>9</th>\n",
       "      <td>2022-03-02 10:00:01.500000</td>\n",
       "      <td>1</td>\n",
       "      <td>NQ\\H22</td>\n",
       "      <td>1.0</td>\n",
       "    </tr>\n",
       "    <tr>\n",
       "      <th>10</th>\n",
       "      <td>2022-03-02 10:00:05.500000</td>\n",
       "      <td>1</td>\n",
       "      <td>NQ\\H22</td>\n",
       "      <td>5.0</td>\n",
       "    </tr>\n",
       "    <tr>\n",
       "      <th>11</th>\n",
       "      <td>2022-03-02 10:00:10.500000</td>\n",
       "      <td>1</td>\n",
       "      <td>NQ\\H22</td>\n",
       "      <td>10.0</td>\n",
       "    </tr>\n",
       "    <tr>\n",
       "      <th>12</th>\n",
       "      <td>2022-03-02 10:00:00.500000</td>\n",
       "      <td>2</td>\n",
       "      <td>NQ\\H22</td>\n",
       "      <td>-0.5</td>\n",
       "    </tr>\n",
       "    <tr>\n",
       "      <th>13</th>\n",
       "      <td>2022-03-02 10:00:01</td>\n",
       "      <td>2</td>\n",
       "      <td>NQ\\H22</td>\n",
       "      <td>0.0</td>\n",
       "    </tr>\n",
       "    <tr>\n",
       "      <th>14</th>\n",
       "      <td>2022-03-02 10:00:01.500000</td>\n",
       "      <td>2</td>\n",
       "      <td>NQ\\H22</td>\n",
       "      <td>0.5</td>\n",
       "    </tr>\n",
       "    <tr>\n",
       "      <th>15</th>\n",
       "      <td>2022-03-02 10:00:02</td>\n",
       "      <td>2</td>\n",
       "      <td>NQ\\H22</td>\n",
       "      <td>1.0</td>\n",
       "    </tr>\n",
       "    <tr>\n",
       "      <th>16</th>\n",
       "      <td>2022-03-02 10:00:06</td>\n",
       "      <td>2</td>\n",
       "      <td>NQ\\H22</td>\n",
       "      <td>5.0</td>\n",
       "    </tr>\n",
       "    <tr>\n",
       "      <th>17</th>\n",
       "      <td>2022-03-02 10:00:11</td>\n",
       "      <td>2</td>\n",
       "      <td>NQ\\H22</td>\n",
       "      <td>10.0</td>\n",
       "    </tr>\n",
       "    <tr>\n",
       "      <th>18</th>\n",
       "      <td>2022-03-02 10:00:01</td>\n",
       "      <td>3</td>\n",
       "      <td>ES\\H22</td>\n",
       "      <td>-0.5</td>\n",
       "    </tr>\n",
       "    <tr>\n",
       "      <th>19</th>\n",
       "      <td>2022-03-02 10:00:01.500000</td>\n",
       "      <td>3</td>\n",
       "      <td>ES\\H22</td>\n",
       "      <td>0.0</td>\n",
       "    </tr>\n",
       "    <tr>\n",
       "      <th>20</th>\n",
       "      <td>2022-03-02 10:00:02</td>\n",
       "      <td>3</td>\n",
       "      <td>ES\\H22</td>\n",
       "      <td>0.5</td>\n",
       "    </tr>\n",
       "    <tr>\n",
       "      <th>21</th>\n",
       "      <td>2022-03-02 10:00:02.500000</td>\n",
       "      <td>3</td>\n",
       "      <td>ES\\H22</td>\n",
       "      <td>1.0</td>\n",
       "    </tr>\n",
       "    <tr>\n",
       "      <th>22</th>\n",
       "      <td>2022-03-02 10:00:06.500000</td>\n",
       "      <td>3</td>\n",
       "      <td>ES\\H22</td>\n",
       "      <td>5.0</td>\n",
       "    </tr>\n",
       "    <tr>\n",
       "      <th>23</th>\n",
       "      <td>2022-03-02 10:00:11.500000</td>\n",
       "      <td>3</td>\n",
       "      <td>ES\\H22</td>\n",
       "      <td>10.0</td>\n",
       "    </tr>\n",
       "    <tr>\n",
       "      <th>24</th>\n",
       "      <td>2022-03-02 10:00:01.500000</td>\n",
       "      <td>4</td>\n",
       "      <td>NQ\\H22</td>\n",
       "      <td>-0.5</td>\n",
       "    </tr>\n",
       "    <tr>\n",
       "      <th>25</th>\n",
       "      <td>2022-03-02 10:00:02</td>\n",
       "      <td>4</td>\n",
       "      <td>NQ\\H22</td>\n",
       "      <td>0.0</td>\n",
       "    </tr>\n",
       "    <tr>\n",
       "      <th>26</th>\n",
       "      <td>2022-03-02 10:00:02.500000</td>\n",
       "      <td>4</td>\n",
       "      <td>NQ\\H22</td>\n",
       "      <td>0.5</td>\n",
       "    </tr>\n",
       "    <tr>\n",
       "      <th>27</th>\n",
       "      <td>2022-03-02 10:00:03</td>\n",
       "      <td>4</td>\n",
       "      <td>NQ\\H22</td>\n",
       "      <td>1.0</td>\n",
       "    </tr>\n",
       "    <tr>\n",
       "      <th>28</th>\n",
       "      <td>2022-03-02 10:00:07</td>\n",
       "      <td>4</td>\n",
       "      <td>NQ\\H22</td>\n",
       "      <td>5.0</td>\n",
       "    </tr>\n",
       "    <tr>\n",
       "      <th>29</th>\n",
       "      <td>2022-03-02 10:00:12</td>\n",
       "      <td>4</td>\n",
       "      <td>NQ\\H22</td>\n",
       "      <td>10.0</td>\n",
       "    </tr>\n",
       "  </tbody>\n",
       "</table>\n",
       "</div>"
      ],
      "text/plain": [
       "                  markout_time  ID SYMBOL_NAME  markout\n",
       "0   2022-03-02 09:59:59.500000   0      ES\\H22     -0.5\n",
       "1          2022-03-02 10:00:00   0      ES\\H22      0.0\n",
       "2   2022-03-02 10:00:00.500000   0      ES\\H22      0.5\n",
       "3          2022-03-02 10:00:01   0      ES\\H22      1.0\n",
       "4          2022-03-02 10:00:05   0      ES\\H22      5.0\n",
       "5          2022-03-02 10:00:10   0      ES\\H22     10.0\n",
       "6          2022-03-02 10:00:00   1      NQ\\H22     -0.5\n",
       "7   2022-03-02 10:00:00.500000   1      NQ\\H22      0.0\n",
       "8          2022-03-02 10:00:01   1      NQ\\H22      0.5\n",
       "9   2022-03-02 10:00:01.500000   1      NQ\\H22      1.0\n",
       "10  2022-03-02 10:00:05.500000   1      NQ\\H22      5.0\n",
       "11  2022-03-02 10:00:10.500000   1      NQ\\H22     10.0\n",
       "12  2022-03-02 10:00:00.500000   2      NQ\\H22     -0.5\n",
       "13         2022-03-02 10:00:01   2      NQ\\H22      0.0\n",
       "14  2022-03-02 10:00:01.500000   2      NQ\\H22      0.5\n",
       "15         2022-03-02 10:00:02   2      NQ\\H22      1.0\n",
       "16         2022-03-02 10:00:06   2      NQ\\H22      5.0\n",
       "17         2022-03-02 10:00:11   2      NQ\\H22     10.0\n",
       "18         2022-03-02 10:00:01   3      ES\\H22     -0.5\n",
       "19  2022-03-02 10:00:01.500000   3      ES\\H22      0.0\n",
       "20         2022-03-02 10:00:02   3      ES\\H22      0.5\n",
       "21  2022-03-02 10:00:02.500000   3      ES\\H22      1.0\n",
       "22  2022-03-02 10:00:06.500000   3      ES\\H22      5.0\n",
       "23  2022-03-02 10:00:11.500000   3      ES\\H22     10.0\n",
       "24  2022-03-02 10:00:01.500000   4      NQ\\H22     -0.5\n",
       "25         2022-03-02 10:00:02   4      NQ\\H22      0.0\n",
       "26  2022-03-02 10:00:02.500000   4      NQ\\H22      0.5\n",
       "27         2022-03-02 10:00:03   4      NQ\\H22      1.0\n",
       "28         2022-03-02 10:00:07   4      NQ\\H22      5.0\n",
       "29         2022-03-02 10:00:12   4      NQ\\H22     10.0"
      ]
     },
     "execution_count": 29,
     "metadata": {},
     "output_type": "execute_result"
    }
   ],
   "source": [
    "markouts = [-.5, 0, .5, 1, 5, 10] # in seconds: e.g., .5 means half a second after the execution\n",
    "\n",
    "executions_with_markouts_df = pd.DataFrame({\n",
    " 'markout_time': [x + otp.Milli(int(m*1000)) for x in exec_time for m in markouts], \n",
    " 'ID': [x for x in range(0, num_execs) for m in markouts],\n",
    " 'SYMBOL_NAME': list(itertools.chain(*[[random.choice(symbols)] * len(markouts) for x in range(0, num_execs)])),\n",
    " 'markout': [m for x in range(0, num_execs) for m in markouts],\n",
    "})\n",
    "\n",
    "executions_with_markouts_df"
   ]
  },
  {
   "cell_type": "markdown",
   "id": "a1cd05cb-7d81-4ae5-b422-e905a8377f3c",
   "metadata": {},
   "source": [
    "Convert DataFrame to a `onetick-py` object and specify start/end times. Note that for the markouts query, the start and end times are the same as we'll look backwards from the markout timestamp."
   ]
  },
  {
   "cell_type": "code",
   "execution_count": 30,
   "id": "0ef8f0e3-69e4-4459-a630-887a29d7152e",
   "metadata": {},
   "outputs": [],
   "source": [
    "executions_with_markouts = otp.Ticks(executions_with_markouts_df.to_dict(orient='list'))\n",
    "executions_with_markouts['_PARAM_START_TIME_NANOS'] = executions_with_markouts['markout_time']\n",
    "executions_with_markouts['_PARAM_END_TIME_NANOS'] = executions_with_markouts['markout_time']"
   ]
  },
  {
   "cell_type": "markdown",
   "id": "5439a58a-0943-4fc9-a54b-a172cc00b01c",
   "metadata": {},
   "source": [
    "Define a function that looks back from the start of the query until it finds the first tick. Execute the function for each execution/markout."
   ]
  },
  {
   "cell_type": "code",
   "execution_count": 31,
   "id": "1d593670-dc2b-4f6e-ae5a-aba7f7add442",
   "metadata": {},
   "outputs": [
    {
     "name": "stdout",
     "output_type": "stream",
     "text": [
      "                     Time  ASK_PRICE  BID_PRICE                      BBO_TIME  ID  markout     sym\n",
      "0 2022-03-02 04:59:59.500    4333.75    4333.25 2022-03-02 04:59:59.499993709   0     -0.5  ES\\H22\n",
      "0 2022-03-02 05:00:00.000    4333.25    4333.00 2022-03-02 04:59:59.930848677   0      0.0  ES\\H22\n",
      "0 2022-03-02 05:00:00.500    4333.75    4333.25 2022-03-02 05:00:00.494756933   0      0.5  ES\\H22\n",
      "0 2022-03-02 05:00:01.000    4334.00    4333.50 2022-03-02 05:00:00.931358191   0      1.0  ES\\H22\n",
      "0 2022-03-02 05:00:05.000    4333.50    4333.25 2022-03-02 05:00:04.631332237   0      5.0  ES\\H22\n",
      "0 2022-03-02 05:00:10.000    4333.75    4333.25 2022-03-02 05:00:09.936250013   0     10.0  ES\\H22\n",
      "0 2022-03-02 05:00:01.000    4334.00    4333.50 2022-03-02 05:00:00.931358191   3     -0.5  ES\\H22\n",
      "0 2022-03-02 05:00:01.500    4334.00    4333.50 2022-03-02 05:00:01.481454199   3      0.0  ES\\H22\n",
      "0 2022-03-02 05:00:02.000    4333.50    4333.00 2022-03-02 05:00:01.982271033   3      0.5  ES\\H22\n",
      "0 2022-03-02 05:00:02.500    4333.25    4333.00 2022-03-02 05:00:02.443652669   3      1.0  ES\\H22\n",
      "0 2022-03-02 05:00:06.500    4333.75    4333.25 2022-03-02 05:00:06.217983531   3      5.0  ES\\H22\n",
      "0 2022-03-02 05:00:11.500    4333.75    4333.25 2022-03-02 05:00:11.418398299   3     10.0  ES\\H22\n",
      "                     Time  ASK_PRICE  BID_PRICE                      BBO_TIME  ID  markout     sym\n",
      "0 2022-03-02 05:00:00.000   14092.00   14090.75 2022-03-02 04:59:59.928574271   1     -0.5  NQ\\H22\n",
      "0 2022-03-02 05:00:00.500   14093.25   14092.50 2022-03-02 05:00:00.461137519   1      0.0  NQ\\H22\n",
      "0 2022-03-02 05:00:01.000   14094.00   14093.25 2022-03-02 05:00:00.943701603   1      0.5  NQ\\H22\n",
      "0 2022-03-02 05:00:01.500   14094.25   14093.00 2022-03-02 05:00:01.472405271   1      1.0  NQ\\H22\n",
      "0 2022-03-02 05:00:05.500   14093.50   14092.50 2022-03-02 05:00:05.408141139   1      5.0  NQ\\H22\n",
      "0 2022-03-02 05:00:10.500   14093.75   14092.50 2022-03-02 05:00:10.298423401   1     10.0  NQ\\H22\n",
      "0 2022-03-02 05:00:00.500   14093.25   14092.50 2022-03-02 05:00:00.461137519   2     -0.5  NQ\\H22\n",
      "0 2022-03-02 05:00:01.000   14094.00   14093.25 2022-03-02 05:00:00.943701603   2      0.0  NQ\\H22\n",
      "0 2022-03-02 05:00:01.500   14094.25   14093.00 2022-03-02 05:00:01.472405271   2      0.5  NQ\\H22\n",
      "0 2022-03-02 05:00:02.000   14092.00   14090.75 2022-03-02 05:00:01.982281231   2      1.0  NQ\\H22\n",
      "0 2022-03-02 05:00:06.000   14093.00   14091.75 2022-03-02 05:00:05.889185319   2      5.0  NQ\\H22\n",
      "0 2022-03-02 05:00:11.000   14093.75   14092.50 2022-03-02 05:00:10.298423401   2     10.0  NQ\\H22\n",
      "0 2022-03-02 05:00:01.500   14094.25   14093.00 2022-03-02 05:00:01.472405271   4     -0.5  NQ\\H22\n",
      "0 2022-03-02 05:00:02.000   14092.00   14090.75 2022-03-02 05:00:01.982281231   4      0.0  NQ\\H22\n",
      "0 2022-03-02 05:00:02.500   14091.75   14090.50 2022-03-02 05:00:02.443542125   4      0.5  NQ\\H22\n",
      "0 2022-03-02 05:00:03.000   14092.50   14091.25 2022-03-02 05:00:02.804118955   4      1.0  NQ\\H22\n",
      "0 2022-03-02 05:00:07.000   14094.00   14092.75 2022-03-02 05:00:06.865556537   4      5.0  NQ\\H22\n",
      "0 2022-03-02 05:00:12.000   14093.75   14092.50 2022-03-02 05:00:10.298423401   4     10.0  NQ\\H22\n"
     ]
    }
   ],
   "source": [
    "def bbo_at_time(symbol):\n",
    "    q = otp.DataSource('CME', tick_type='QTE', back_to_first_tick=600, keep_first_tick_timestamp='BBO_TIME')\n",
    "    q = q[['ASK_PRICE','BID_PRICE', 'BBO_TIME']]\n",
    "    q['ID'] = symbol['ID']\n",
    "    q['markout'] = symbol['markout']\n",
    "    q['sym'] = symbol.name\n",
    "    return q\n",
    "\n",
    "res = otp.run(bbo_at_time, symbols=executions_with_markouts, concurrency=8, batch_size=100)\n",
    "\n",
    "for s in res.keys():\n",
    "    print(pd.concat(res[s]))"
   ]
  },
  {
   "cell_type": "markdown",
   "id": "13ff6145-7147-4372-b564-33347c7c5c67",
   "metadata": {
    "tags": []
   },
   "source": [
    "# Upticks/Downticks\n",
    "You can mark each trade as an uptick or downtick."
   ]
  },
  {
   "cell_type": "code",
   "execution_count": 32,
   "id": "b7db83cc",
   "metadata": {},
   "outputs": [
    {
     "data": {
      "text/html": [
       "<div>\n",
       "<style scoped>\n",
       "    .dataframe tbody tr th:only-of-type {\n",
       "        vertical-align: middle;\n",
       "    }\n",
       "\n",
       "    .dataframe tbody tr th {\n",
       "        vertical-align: top;\n",
       "    }\n",
       "\n",
       "    .dataframe thead th {\n",
       "        text-align: right;\n",
       "    }\n",
       "</style>\n",
       "<table border=\"1\" class=\"dataframe\">\n",
       "  <thead>\n",
       "    <tr style=\"text-align: right;\">\n",
       "      <th></th>\n",
       "      <th>Time</th>\n",
       "      <th>PRICE</th>\n",
       "      <th>UPTICK</th>\n",
       "    </tr>\n",
       "  </thead>\n",
       "  <tbody>\n",
       "    <tr>\n",
       "      <th>0</th>\n",
       "      <td>2022-03-02 10:00:00.000789627</td>\n",
       "      <td>14074.75</td>\n",
       "      <td>NaN</td>\n",
       "    </tr>\n",
       "    <tr>\n",
       "      <th>1</th>\n",
       "      <td>2022-03-02 10:00:00.000929635</td>\n",
       "      <td>14075.75</td>\n",
       "      <td>1.0</td>\n",
       "    </tr>\n",
       "    <tr>\n",
       "      <th>2</th>\n",
       "      <td>2022-03-02 10:00:00.000929635</td>\n",
       "      <td>14076.00</td>\n",
       "      <td>1.0</td>\n",
       "    </tr>\n",
       "    <tr>\n",
       "      <th>3</th>\n",
       "      <td>2022-03-02 10:00:00.000929635</td>\n",
       "      <td>14076.00</td>\n",
       "      <td>0.0</td>\n",
       "    </tr>\n",
       "    <tr>\n",
       "      <th>4</th>\n",
       "      <td>2022-03-02 10:00:00.002409827</td>\n",
       "      <td>14075.75</td>\n",
       "      <td>-1.0</td>\n",
       "    </tr>\n",
       "  </tbody>\n",
       "</table>\n",
       "</div>"
      ],
      "text/plain": [
       "                           Time     PRICE  UPTICK\n",
       "0 2022-03-02 10:00:00.000789627  14074.75     NaN\n",
       "1 2022-03-02 10:00:00.000929635  14075.75     1.0\n",
       "2 2022-03-02 10:00:00.000929635  14076.00     1.0\n",
       "3 2022-03-02 10:00:00.000929635  14076.00     0.0\n",
       "4 2022-03-02 10:00:00.002409827  14075.75    -1.0"
      ]
     },
     "execution_count": 32,
     "metadata": {},
     "output_type": "execute_result"
    }
   ],
   "source": [
    "trd = otp.DataSource('CME', tick_type='TRD')\n",
    "\n",
    "def uptick(row):\n",
    "    if row['PRICE'] == otp.nan or row['PRICE'][-1] == otp.nan:\n",
    "        return otp.nan\n",
    "    if row['PRICE'] > row['PRICE'][-1]:\n",
    "        return 1\n",
    "    elif row['PRICE'] < row['PRICE'][-1]:\n",
    "        return -1\n",
    "    else:\n",
    "        return 0\n",
    "\n",
    "trd['UPTICK'] = trd.apply(uptick)\n",
    "trd = trd[['PRICE', 'UPTICK']]\n",
    "trd = trd.first(5)\n",
    "otp.run(trd, start=start, end=end, symbols=emini)"
   ]
  },
  {
   "cell_type": "markdown",
   "id": "b2ff32e5",
   "metadata": {},
   "source": [
    "# Symbol Operations"
   ]
  },
  {
   "cell_type": "markdown",
   "id": "9ce8efd3",
   "metadata": {},
   "source": [
    "## Quering multiple symbols"
   ]
  },
  {
   "cell_type": "markdown",
   "id": "0511bcf4",
   "metadata": {},
   "source": [
    "### A separate data series for each symbol"
   ]
  },
  {
   "cell_type": "code",
   "execution_count": 33,
   "id": "8ece84a5",
   "metadata": {},
   "outputs": [
    {
     "data": {
      "text/plain": [
       "{'MSFT':                            Time   PRICE  SIZE EXCHANGE\n",
       " 0 2022-03-01 10:00:00.003577531  298.53    50        Q\n",
       " 1 2022-03-01 10:00:00.012147126  298.53    60        K\n",
       " 2 2022-03-01 10:00:00.012251683  298.53    40        K\n",
       " 3 2022-03-01 10:00:00.012524905  298.54    27        P\n",
       " 4 2022-03-01 10:00:00.012602204  298.54     2        P,\n",
       " 'AAPL':                            Time   PRICE  SIZE EXCHANGE\n",
       " 0 2022-03-01 10:00:00.003529175  165.75   100        Q\n",
       " 1 2022-03-01 10:00:00.003530928  165.75   100        Q\n",
       " 2 2022-03-01 10:00:00.003532720  165.75   100        Q\n",
       " 3 2022-03-01 10:00:00.003676379  165.75   100        Z\n",
       " 4 2022-03-01 10:00:00.004032611  165.75   104        H}"
      ]
     },
     "execution_count": 33,
     "metadata": {},
     "output_type": "execute_result"
    }
   ],
   "source": [
    "symbols=['AAPL','MSFT'] # sybmols can be specified as a list\n",
    "trd = otp.DataSource('NYSE_TAQ', tick_type='TRD')\n",
    "trd = trd[['PRICE','SIZE','EXCHANGE']]\n",
    "trd = trd.first(5)\n",
    "trd_df = otp.run(trd, symbols=symbols, concurrency=8, start=otp.dt(2022,3,1,10), end=otp.dt(2022,3,1,10,15))\n",
    "trd_df"
   ]
  },
  {
   "cell_type": "markdown",
   "id": "581248fb",
   "metadata": {},
   "source": [
    "### Ticks from all symbols merged into a single data series"
   ]
  },
  {
   "cell_type": "code",
   "execution_count": 34,
   "id": "f8ae316f",
   "metadata": {},
   "outputs": [
    {
     "data": {
      "text/html": [
       "<div>\n",
       "<style scoped>\n",
       "    .dataframe tbody tr th:only-of-type {\n",
       "        vertical-align: middle;\n",
       "    }\n",
       "\n",
       "    .dataframe tbody tr th {\n",
       "        vertical-align: top;\n",
       "    }\n",
       "\n",
       "    .dataframe thead th {\n",
       "        text-align: right;\n",
       "    }\n",
       "</style>\n",
       "<table border=\"1\" class=\"dataframe\">\n",
       "  <thead>\n",
       "    <tr style=\"text-align: right;\">\n",
       "      <th></th>\n",
       "      <th>Time</th>\n",
       "      <th>PRICE</th>\n",
       "      <th>SIZE</th>\n",
       "      <th>EXCHANGE</th>\n",
       "      <th>COND</th>\n",
       "      <th>SYMBOL_NAME</th>\n",
       "      <th>TICK_TYPE</th>\n",
       "    </tr>\n",
       "  </thead>\n",
       "  <tbody>\n",
       "    <tr>\n",
       "      <th>0</th>\n",
       "      <td>2022-03-01 10:00:00.003529175</td>\n",
       "      <td>165.75</td>\n",
       "      <td>100</td>\n",
       "      <td>Q</td>\n",
       "      <td>@</td>\n",
       "      <td>AAPL</td>\n",
       "      <td>TRD</td>\n",
       "    </tr>\n",
       "    <tr>\n",
       "      <th>1</th>\n",
       "      <td>2022-03-01 10:00:00.003530928</td>\n",
       "      <td>165.75</td>\n",
       "      <td>100</td>\n",
       "      <td>Q</td>\n",
       "      <td>@</td>\n",
       "      <td>AAPL</td>\n",
       "      <td>TRD</td>\n",
       "    </tr>\n",
       "    <tr>\n",
       "      <th>2</th>\n",
       "      <td>2022-03-01 10:00:00.003532720</td>\n",
       "      <td>165.75</td>\n",
       "      <td>100</td>\n",
       "      <td>Q</td>\n",
       "      <td>@</td>\n",
       "      <td>AAPL</td>\n",
       "      <td>TRD</td>\n",
       "    </tr>\n",
       "    <tr>\n",
       "      <th>3</th>\n",
       "      <td>2022-03-01 10:00:00.003577531</td>\n",
       "      <td>298.53</td>\n",
       "      <td>50</td>\n",
       "      <td>Q</td>\n",
       "      <td>@  I</td>\n",
       "      <td>MSFT</td>\n",
       "      <td>TRD</td>\n",
       "    </tr>\n",
       "    <tr>\n",
       "      <th>4</th>\n",
       "      <td>2022-03-01 10:00:00.003676379</td>\n",
       "      <td>165.75</td>\n",
       "      <td>100</td>\n",
       "      <td>Z</td>\n",
       "      <td>@</td>\n",
       "      <td>AAPL</td>\n",
       "      <td>TRD</td>\n",
       "    </tr>\n",
       "  </tbody>\n",
       "</table>\n",
       "</div>"
      ],
      "text/plain": [
       "                           Time   PRICE  SIZE EXCHANGE  COND SYMBOL_NAME TICK_TYPE\n",
       "0 2022-03-01 10:00:00.003529175  165.75   100        Q  @           AAPL       TRD\n",
       "1 2022-03-01 10:00:00.003530928  165.75   100        Q  @           AAPL       TRD\n",
       "2 2022-03-01 10:00:00.003532720  165.75   100        Q  @           AAPL       TRD\n",
       "3 2022-03-01 10:00:00.003577531  298.53    50        Q  @  I        MSFT       TRD\n",
       "4 2022-03-01 10:00:00.003676379  165.75   100        Z  @           AAPL       TRD"
      ]
     },
     "execution_count": 34,
     "metadata": {},
     "output_type": "execute_result"
    }
   ],
   "source": [
    "trd = otp.DataSource('NYSE_TAQ', tick_type='TRD')\n",
    "trd = trd[['PRICE','SIZE','EXCHANGE','COND']]\n",
    "trd = otp.merge([trd], symbols=['AAPL','MSFT'], identify_input_ts=True)\n",
    "trd = trd.first(5)\n",
    "otp.run(trd, start=otp.dt(2022,3,1,10), end=otp.dt(2022,3,1,10,15))"
   ]
  },
  {
   "cell_type": "markdown",
   "id": "17538ddc-30bf-457d-b971-226624eb9e43",
   "metadata": {},
   "source": [
    "Symbols can come from different databases, in which case, the database name and '::' would appear\n",
    "before the symbol name. The schema must be speficied explicitly in this case."
   ]
  },
  {
   "cell_type": "code",
   "execution_count": 35,
   "id": "8e0e7f96-7e29-48d7-9d13-bd3c59238de3",
   "metadata": {},
   "outputs": [
    {
     "data": {
      "text/html": [
       "<div>\n",
       "<style scoped>\n",
       "    .dataframe tbody tr th:only-of-type {\n",
       "        vertical-align: middle;\n",
       "    }\n",
       "\n",
       "    .dataframe tbody tr th {\n",
       "        vertical-align: top;\n",
       "    }\n",
       "\n",
       "    .dataframe thead th {\n",
       "        text-align: right;\n",
       "    }\n",
       "</style>\n",
       "<table border=\"1\" class=\"dataframe\">\n",
       "  <thead>\n",
       "    <tr style=\"text-align: right;\">\n",
       "      <th></th>\n",
       "      <th>Time</th>\n",
       "      <th>PRICE</th>\n",
       "      <th>SIZE</th>\n",
       "      <th>EXCH_TIME</th>\n",
       "      <th>EXCHANGE</th>\n",
       "      <th>SYMBOL_NAME</th>\n",
       "      <th>TICK_TYPE</th>\n",
       "    </tr>\n",
       "  </thead>\n",
       "  <tbody>\n",
       "    <tr>\n",
       "      <th>0</th>\n",
       "      <td>2022-03-01 10:01:27.612</td>\n",
       "      <td>2.83</td>\n",
       "      <td>2000</td>\n",
       "      <td>2022-03-01 10:01:27.582372000</td>\n",
       "      <td>ALP</td>\n",
       "      <td>IDC1075::FL</td>\n",
       "      <td>TRD</td>\n",
       "    </tr>\n",
       "    <tr>\n",
       "      <th>1</th>\n",
       "      <td>2022-03-01 10:02:00.803</td>\n",
       "      <td>2.83</td>\n",
       "      <td>100</td>\n",
       "      <td>2022-03-01 10:02:00.803000000</td>\n",
       "      <td>CHI</td>\n",
       "      <td>IDC1075::FL</td>\n",
       "      <td>TRD</td>\n",
       "    </tr>\n",
       "    <tr>\n",
       "      <th>2</th>\n",
       "      <td>2022-03-01 10:02:00.803</td>\n",
       "      <td>2.83</td>\n",
       "      <td>600</td>\n",
       "      <td>2022-03-01 10:02:00.803162000</td>\n",
       "      <td>CDX</td>\n",
       "      <td>IDC1075::FL</td>\n",
       "      <td>TRD</td>\n",
       "    </tr>\n",
       "    <tr>\n",
       "      <th>3</th>\n",
       "      <td>2022-03-01 10:02:00.914</td>\n",
       "      <td>2.83</td>\n",
       "      <td>600</td>\n",
       "      <td>2022-03-01 10:02:00.803162203</td>\n",
       "      <td></td>\n",
       "      <td>MS113::FL.113</td>\n",
       "      <td>TRD</td>\n",
       "    </tr>\n",
       "    <tr>\n",
       "      <th>4</th>\n",
       "      <td>2022-03-01 10:07:05.436</td>\n",
       "      <td>2.84</td>\n",
       "      <td>3</td>\n",
       "      <td>2022-03-01 10:07:05.436496000</td>\n",
       "      <td>TCM</td>\n",
       "      <td>IDC1075::FL</td>\n",
       "      <td>TRD</td>\n",
       "    </tr>\n",
       "  </tbody>\n",
       "</table>\n",
       "</div>"
      ],
      "text/plain": [
       "                     Time  PRICE  SIZE                     EXCH_TIME EXCHANGE    SYMBOL_NAME TICK_TYPE\n",
       "0 2022-03-01 10:01:27.612   2.83  2000 2022-03-01 10:01:27.582372000      ALP    IDC1075::FL       TRD\n",
       "1 2022-03-01 10:02:00.803   2.83   100 2022-03-01 10:02:00.803000000      CHI    IDC1075::FL       TRD\n",
       "2 2022-03-01 10:02:00.803   2.83   600 2022-03-01 10:02:00.803162000      CDX    IDC1075::FL       TRD\n",
       "3 2022-03-01 10:02:00.914   2.83   600 2022-03-01 10:02:00.803162203           MS113::FL.113       TRD\n",
       "4 2022-03-01 10:07:05.436   2.84     3 2022-03-01 10:07:05.436496000      TCM    IDC1075::FL       TRD"
      ]
     },
     "execution_count": 35,
     "metadata": {},
     "output_type": "execute_result"
    }
   ],
   "source": [
    "trd = otp.DataSource(tick_type='TRD')\n",
    "trd = trd.table(PRICE=float, SIZE=int, EXCH_TIME=otp.nsectime, EXCHANGE=otp.string[8])\n",
    "trd = otp.merge([trd], symbols=['IDC1075::FL','MS113::FL.113'], identify_input_ts=True)\n",
    "trd = trd.first(5)\n",
    "otp.run(trd, start=otp.dt(2022,3,1,10), end=otp.dt(2022,3,1,10,15))"
   ]
  },
  {
   "cell_type": "markdown",
   "id": "02fae99e",
   "metadata": {},
   "source": [
    "## Get all symbols from a database"
   ]
  },
  {
   "cell_type": "code",
   "execution_count": 36,
   "id": "fd945ed8",
   "metadata": {},
   "outputs": [
    {
     "data": {
      "text/html": [
       "<div>\n",
       "<style scoped>\n",
       "    .dataframe tbody tr th:only-of-type {\n",
       "        vertical-align: middle;\n",
       "    }\n",
       "\n",
       "    .dataframe tbody tr th {\n",
       "        vertical-align: top;\n",
       "    }\n",
       "\n",
       "    .dataframe thead th {\n",
       "        text-align: right;\n",
       "    }\n",
       "</style>\n",
       "<table border=\"1\" class=\"dataframe\">\n",
       "  <thead>\n",
       "    <tr style=\"text-align: right;\">\n",
       "      <th></th>\n",
       "      <th>Time</th>\n",
       "      <th>SYMBOL_NAME</th>\n",
       "    </tr>\n",
       "  </thead>\n",
       "  <tbody>\n",
       "    <tr>\n",
       "      <th>0</th>\n",
       "      <td>2022-03-01</td>\n",
       "      <td>A</td>\n",
       "    </tr>\n",
       "    <tr>\n",
       "      <th>1</th>\n",
       "      <td>2022-03-01</td>\n",
       "      <td>AA</td>\n",
       "    </tr>\n",
       "    <tr>\n",
       "      <th>2</th>\n",
       "      <td>2022-03-01</td>\n",
       "      <td>AAA</td>\n",
       "    </tr>\n",
       "    <tr>\n",
       "      <th>3</th>\n",
       "      <td>2022-03-01</td>\n",
       "      <td>AAAU</td>\n",
       "    </tr>\n",
       "    <tr>\n",
       "      <th>4</th>\n",
       "      <td>2022-03-01</td>\n",
       "      <td>AAC</td>\n",
       "    </tr>\n",
       "    <tr>\n",
       "      <th>...</th>\n",
       "      <td>...</td>\n",
       "      <td>...</td>\n",
       "    </tr>\n",
       "    <tr>\n",
       "      <th>12041</th>\n",
       "      <td>2022-03-01</td>\n",
       "      <td>ZXZZT</td>\n",
       "    </tr>\n",
       "    <tr>\n",
       "      <th>12042</th>\n",
       "      <td>2022-03-01</td>\n",
       "      <td>ZY</td>\n",
       "    </tr>\n",
       "    <tr>\n",
       "      <th>12043</th>\n",
       "      <td>2022-03-01</td>\n",
       "      <td>ZYME</td>\n",
       "    </tr>\n",
       "    <tr>\n",
       "      <th>12044</th>\n",
       "      <td>2022-03-01</td>\n",
       "      <td>ZYNE</td>\n",
       "    </tr>\n",
       "    <tr>\n",
       "      <th>12045</th>\n",
       "      <td>2022-03-01</td>\n",
       "      <td>ZYXI</td>\n",
       "    </tr>\n",
       "  </tbody>\n",
       "</table>\n",
       "<p>12046 rows × 2 columns</p>\n",
       "</div>"
      ],
      "text/plain": [
       "            Time SYMBOL_NAME\n",
       "0     2022-03-01           A\n",
       "1     2022-03-01          AA\n",
       "2     2022-03-01         AAA\n",
       "3     2022-03-01        AAAU\n",
       "4     2022-03-01         AAC\n",
       "...          ...         ...\n",
       "12041 2022-03-01       ZXZZT\n",
       "12042 2022-03-01          ZY\n",
       "12043 2022-03-01        ZYME\n",
       "12044 2022-03-01        ZYNE\n",
       "12045 2022-03-01        ZYXI\n",
       "\n",
       "[12046 rows x 2 columns]"
      ]
     },
     "execution_count": 36,
     "metadata": {},
     "output_type": "execute_result"
    }
   ],
   "source": [
    "symbols = otp.Symbols(db='NYSE_TAQ', date=otp.dt(2022, 3, 1))\n",
    "otp.run(symbols)"
   ]
  },
  {
   "cell_type": "markdown",
   "id": "ebcfb9ca",
   "metadata": {},
   "source": [
    "## Get all symbols that match a pattern"
   ]
  },
  {
   "cell_type": "code",
   "execution_count": 37,
   "id": "4df93e09",
   "metadata": {},
   "outputs": [
    {
     "data": {
      "text/html": [
       "<div>\n",
       "<style scoped>\n",
       "    .dataframe tbody tr th:only-of-type {\n",
       "        vertical-align: middle;\n",
       "    }\n",
       "\n",
       "    .dataframe tbody tr th {\n",
       "        vertical-align: top;\n",
       "    }\n",
       "\n",
       "    .dataframe thead th {\n",
       "        text-align: right;\n",
       "    }\n",
       "</style>\n",
       "<table border=\"1\" class=\"dataframe\">\n",
       "  <thead>\n",
       "    <tr style=\"text-align: right;\">\n",
       "      <th></th>\n",
       "      <th>Time</th>\n",
       "      <th>SYMBOL_NAME</th>\n",
       "    </tr>\n",
       "  </thead>\n",
       "  <tbody>\n",
       "    <tr>\n",
       "      <th>0</th>\n",
       "      <td>2022-03-01</td>\n",
       "      <td>BBAI</td>\n",
       "    </tr>\n",
       "    <tr>\n",
       "      <th>1</th>\n",
       "      <td>2022-03-01</td>\n",
       "      <td>BBAIWS</td>\n",
       "    </tr>\n",
       "    <tr>\n",
       "      <th>2</th>\n",
       "      <td>2022-03-01</td>\n",
       "      <td>BBAR</td>\n",
       "    </tr>\n",
       "    <tr>\n",
       "      <th>3</th>\n",
       "      <td>2022-03-01</td>\n",
       "      <td>BBAX</td>\n",
       "    </tr>\n",
       "  </tbody>\n",
       "</table>\n",
       "</div>"
      ],
      "text/plain": [
       "        Time SYMBOL_NAME\n",
       "0 2022-03-01        BBAI\n",
       "1 2022-03-01      BBAIWS\n",
       "2 2022-03-01        BBAR\n",
       "3 2022-03-01        BBAX"
      ]
     },
     "execution_count": 37,
     "metadata": {},
     "output_type": "execute_result"
    }
   ],
   "source": [
    "symbols = otp.Symbols(db=['NYSE_TAQ'], date=otp.dt(2022, 3, 1), pattern='BBA%')\n",
    "otp.run(symbols)"
   ]
  },
  {
   "cell_type": "markdown",
   "id": "014fef00-fd47-4f6c-af84-1236b9ff2b06",
   "metadata": {
    "tags": []
   },
   "source": [
    "## Count the number of trades per symbol"
   ]
  },
  {
   "cell_type": "code",
   "execution_count": 38,
   "id": "31ee1cdc-36e3-4a37-8975-fe21813bcde4",
   "metadata": {},
   "outputs": [
    {
     "data": {
      "text/plain": [
       "{'BBAIWS':         Time  COUNT\n",
       " 0 2022-03-02    137,\n",
       " 'BBAX':         Time  COUNT\n",
       " 0 2022-03-02   1115,\n",
       " 'BBAI':         Time  COUNT\n",
       " 0 2022-03-02   1063,\n",
       " 'BBAR':         Time  COUNT\n",
       " 0 2022-03-02   3281}"
      ]
     },
     "execution_count": 38,
     "metadata": {},
     "output_type": "execute_result"
    }
   ],
   "source": [
    "trd = otp.DataSource('NYSE_TAQ', tick_type='TRD')\n",
    "count = trd.agg({'COUNT': otp.agg.count()})\n",
    "otp.run(count, concurrency=8, start=otp.dt(2022,3,1), end=otp.dt(2022,3,2), symbols=otp.Symbols(db='NYSE_TAQ', pattern='BBA%'))"
   ]
  },
  {
   "cell_type": "markdown",
   "id": "e0347234-47b6-4b22-9cce-cabb14fa131b",
   "metadata": {},
   "source": [
    "## Count the number of trades across symbols"
   ]
  },
  {
   "cell_type": "code",
   "execution_count": 39,
   "id": "126c39f4-9f0e-47c5-bf1e-505c2cdf6943",
   "metadata": {},
   "outputs": [
    {
     "data": {
      "text/html": [
       "<div>\n",
       "<style scoped>\n",
       "    .dataframe tbody tr th:only-of-type {\n",
       "        vertical-align: middle;\n",
       "    }\n",
       "\n",
       "    .dataframe tbody tr th {\n",
       "        vertical-align: top;\n",
       "    }\n",
       "\n",
       "    .dataframe thead th {\n",
       "        text-align: right;\n",
       "    }\n",
       "</style>\n",
       "<table border=\"1\" class=\"dataframe\">\n",
       "  <thead>\n",
       "    <tr style=\"text-align: right;\">\n",
       "      <th></th>\n",
       "      <th>Time</th>\n",
       "      <th>COUNT</th>\n",
       "    </tr>\n",
       "  </thead>\n",
       "  <tbody>\n",
       "    <tr>\n",
       "      <th>0</th>\n",
       "      <td>2022-03-02</td>\n",
       "      <td>102893787</td>\n",
       "    </tr>\n",
       "  </tbody>\n",
       "</table>\n",
       "</div>"
      ],
      "text/plain": [
       "        Time      COUNT\n",
       "0 2022-03-02  102893787"
      ]
     },
     "execution_count": 39,
     "metadata": {},
     "output_type": "execute_result"
    }
   ],
   "source": [
    "trd = otp.DataSource('NYSE_TAQ', tick_type='TRD')\n",
    "count = trd.agg({'COUNT': otp.agg.count()})\n",
    "count = otp.merge([count], symbols=otp.Symbols(db='NYSE_TAQ'), presort=True, identify_input_ts=True)\n",
    "total_count = count.agg({'COUNT': otp.agg.sum('COUNT')})\n",
    "otp.run(total_count, concurrency=8, start=otp.dt(2022,3,1), end=otp.dt(2022,3,2))"
   ]
  },
  {
   "cell_type": "markdown",
   "id": "ebfeb611",
   "metadata": {},
   "source": [
    "## Find the most traded symbols and query them (`Multi-stage queries`)"
   ]
  },
  {
   "cell_type": "code",
   "execution_count": 40,
   "id": "137d399b",
   "metadata": {
    "scrolled": true
   },
   "outputs": [
    {
     "data": {
      "text/html": [
       "<div>\n",
       "<style scoped>\n",
       "    .dataframe tbody tr th:only-of-type {\n",
       "        vertical-align: middle;\n",
       "    }\n",
       "\n",
       "    .dataframe tbody tr th {\n",
       "        vertical-align: top;\n",
       "    }\n",
       "\n",
       "    .dataframe thead th {\n",
       "        text-align: right;\n",
       "    }\n",
       "</style>\n",
       "<table border=\"1\" class=\"dataframe\">\n",
       "  <thead>\n",
       "    <tr style=\"text-align: right;\">\n",
       "      <th></th>\n",
       "      <th>Time</th>\n",
       "      <th>COUNT</th>\n",
       "      <th>SYMBOL_NAME</th>\n",
       "      <th>TICK_TYPE</th>\n",
       "    </tr>\n",
       "  </thead>\n",
       "  <tbody>\n",
       "    <tr>\n",
       "      <th>0</th>\n",
       "      <td>2022-03-02</td>\n",
       "      <td>1422076</td>\n",
       "      <td>SPY</td>\n",
       "      <td>TRD</td>\n",
       "    </tr>\n",
       "    <tr>\n",
       "      <th>1</th>\n",
       "      <td>2022-03-02</td>\n",
       "      <td>883708</td>\n",
       "      <td>TQQQ</td>\n",
       "      <td>TRD</td>\n",
       "    </tr>\n",
       "    <tr>\n",
       "      <th>2</th>\n",
       "      <td>2022-03-02</td>\n",
       "      <td>844847</td>\n",
       "      <td>AMD</td>\n",
       "      <td>TRD</td>\n",
       "    </tr>\n",
       "    <tr>\n",
       "      <th>3</th>\n",
       "      <td>2022-03-02</td>\n",
       "      <td>829879</td>\n",
       "      <td>SQQQ</td>\n",
       "      <td>TRD</td>\n",
       "    </tr>\n",
       "    <tr>\n",
       "      <th>4</th>\n",
       "      <td>2022-03-02</td>\n",
       "      <td>763562</td>\n",
       "      <td>QQQ</td>\n",
       "      <td>TRD</td>\n",
       "    </tr>\n",
       "  </tbody>\n",
       "</table>\n",
       "</div>"
      ],
      "text/plain": [
       "        Time    COUNT SYMBOL_NAME TICK_TYPE\n",
       "0 2022-03-02  1422076         SPY       TRD\n",
       "1 2022-03-02   883708        TQQQ       TRD\n",
       "2 2022-03-02   844847         AMD       TRD\n",
       "3 2022-03-02   829879        SQQQ       TRD\n",
       "4 2022-03-02   763562         QQQ       TRD"
      ]
     },
     "execution_count": 40,
     "metadata": {},
     "output_type": "execute_result"
    }
   ],
   "source": [
    "trd = otp.DataSource('NYSE_TAQ', tick_type='TRD')\n",
    "count = trd.agg({'COUNT': otp.agg.count()})\n",
    "count = otp.merge([count], symbols=otp.Symbols(db='NYSE_TAQ'), presort=True, identify_input_ts=True)\n",
    "most_traded = count.high('COUNT', n=5)\n",
    "otp.run(most_traded, concurrency=8, start=otp.dt(2022,3,1), end=otp.dt(2022,3,2))"
   ]
  },
  {
   "cell_type": "markdown",
   "id": "493981ec",
   "metadata": {},
   "source": [
    "Now that we have a query that finds the most traded symbols, we can use it to provide these symbols for querying"
   ]
  },
  {
   "cell_type": "code",
   "execution_count": 41,
   "id": "5567593c",
   "metadata": {},
   "outputs": [
    {
     "data": {
      "text/plain": [
       "{'AAPL':                            Time EXCHANGE  COND STOP_STOCK SOURCE TRF TTE TICKER   PRICE        DELETED_TIME  TICK_STATUS  SIZE  CORR  SEQ_NUM TRADE_ID              PARTICIPANT_TIME            TRF_TIME  OMDSEQ\n",
       " 0 2022-03-01 10:00:00.003529175        Q  @                    N       0   AAPL  165.75 1969-12-31 19:00:00            0   100     0  1009136    29549 2022-03-01 10:00:00.003512815 1969-12-31 19:00:00       0\n",
       " 1 2022-03-01 10:00:00.003530928        Q  @                    N       0   AAPL  165.75 1969-12-31 19:00:00            0   100     0  1009137    29550 2022-03-01 10:00:00.003512815 1969-12-31 19:00:00       1\n",
       " 2 2022-03-01 10:00:00.003532720        Q  @                    N       0   AAPL  165.75 1969-12-31 19:00:00            0   100     0  1009138    29551 2022-03-01 10:00:00.003512815 1969-12-31 19:00:00       2\n",
       " 3 2022-03-01 10:00:00.003676379        Z  @                    N       0   AAPL  165.75 1969-12-31 19:00:00            0   100     0  1009139    13157 2022-03-01 10:00:00.003468000 1969-12-31 19:00:00       3\n",
       " 4 2022-03-01 10:00:00.004032611        H  @F                   N       1   AAPL  165.75 1969-12-31 19:00:00            0   104     0  1009140      471 2022-03-01 10:00:00.003665884 1969-12-31 19:00:00       0,\n",
       " 'SQQQ':                            Time EXCHANGE  COND STOP_STOCK SOURCE TRF TTE TICKER  PRICE        DELETED_TIME  TICK_STATUS  SIZE  CORR  SEQ_NUM TRADE_ID              PARTICIPANT_TIME            TRF_TIME  OMDSEQ\n",
       " 0 2022-03-01 10:00:00.007137522        P  @F                   N       1   SQQQ  40.97 1969-12-31 19:00:00            0   100     0  1071008    20406 2022-03-01 10:00:00.006791680 1969-12-31 19:00:00       0\n",
       " 1 2022-03-01 10:00:00.007418833        Q  @F I                 N       1   SQQQ  40.96 1969-12-31 19:00:00            0    28     0  1071010    29401 2022-03-01 10:00:00.007403387 1969-12-31 19:00:00       1\n",
       " 2 2022-03-01 10:00:00.007710096        P  @F I                 N       1   SQQQ  40.96 1969-12-31 19:00:00            0     2     0  1071011    20407 2022-03-01 10:00:00.007342080 1969-12-31 19:00:00       2\n",
       " 3 2022-03-01 10:00:00.007710202        P  @F                   N       1   SQQQ  40.96 1969-12-31 19:00:00            0   100     0  1071012    20408 2022-03-01 10:00:00.007342080 1969-12-31 19:00:00       3\n",
       " 4 2022-03-01 10:00:00.007783998        Z  @F I                 N       1   SQQQ  40.96 1969-12-31 19:00:00            0     2     0  1071016    13772 2022-03-01 10:00:00.007584000 1969-12-31 19:00:00       4,\n",
       " 'QQQ':                            Time EXCHANGE  COND STOP_STOCK SOURCE TRF TTE TICKER   PRICE        DELETED_TIME  TICK_STATUS  SIZE  CORR  SEQ_NUM TRADE_ID              PARTICIPANT_TIME            TRF_TIME  OMDSEQ\n",
       " 0 2022-03-01 10:00:00.006907310        Q  @F                   N       1    QQQ  346.42 1969-12-31 19:00:00            0   100     0   782830    33660 2022-03-01 10:00:00.006891542 1969-12-31 19:00:00       0\n",
       " 1 2022-03-01 10:00:00.006909083        Q  @F I                 N       1    QQQ  346.42 1969-12-31 19:00:00            0    21     0   782831    33661 2022-03-01 10:00:00.006891542 1969-12-31 19:00:00       1\n",
       " 2 2022-03-01 10:00:00.007455712        P  @F I                 N       1    QQQ  346.42 1969-12-31 19:00:00            0    23     0   782832    23820 2022-03-01 10:00:00.007094016 1969-12-31 19:00:00       0\n",
       " 3 2022-03-01 10:00:00.007484350        Q  @F                   N       1    QQQ  346.44 1969-12-31 19:00:00            0   100     0   782833    33662 2022-03-01 10:00:00.007469261 1969-12-31 19:00:00       1\n",
       " 4 2022-03-01 10:00:00.007528378        P  @F                   N       1    QQQ  346.43 1969-12-31 19:00:00            0   100     0   782834    23821 2022-03-01 10:00:00.007166720 1969-12-31 19:00:00       2,\n",
       " 'TQQQ':                            Time EXCHANGE  COND STOP_STOCK SOURCE TRF TTE TICKER  PRICE        DELETED_TIME  TICK_STATUS  SIZE  CORR  SEQ_NUM TRADE_ID              PARTICIPANT_TIME            TRF_TIME  OMDSEQ\n",
       " 0 2022-03-01 10:00:00.006829865        Q  @F                   N       1   TQQQ  52.22 1969-12-31 19:00:00            0   200     0  1071007    41526 2022-03-01 10:00:00.006813325 1969-12-31 19:00:00       0\n",
       " 1 2022-03-01 10:00:00.007377212        P  @F                   N       1   TQQQ  52.22 1969-12-31 19:00:00            0   100     0  1071009    32598 2022-03-01 10:00:00.007029760 1969-12-31 19:00:00       0\n",
       " 2 2022-03-01 10:00:00.007729397        Q  @F                   N       1   TQQQ  52.23 1969-12-31 19:00:00            0   100     0  1071013    41527 2022-03-01 10:00:00.007711481 1969-12-31 19:00:00       0\n",
       " 3 2022-03-01 10:00:00.007731954        Q  @F I                 N       1   TQQQ  52.23 1969-12-31 19:00:00            0     2     0  1071014    41528 2022-03-01 10:00:00.007711481 1969-12-31 19:00:00       0\n",
       " 4 2022-03-01 10:00:00.007734508        Q  @F I                 N       1   TQQQ  52.23 1969-12-31 19:00:00            0    70     0  1071015    41529 2022-03-01 10:00:00.007711481 1969-12-31 19:00:00       0,\n",
       " 'SPY':                            Time EXCHANGE  COND STOP_STOCK SOURCE TRF TTE TICKER   PRICE        DELETED_TIME  TICK_STATUS  SIZE  CORR  SEQ_NUM        TRADE_ID              PARTICIPANT_TIME            TRF_TIME  OMDSEQ\n",
       " 0 2022-03-01 10:00:00.004156928        Z   F            N      C       1    SPY  434.86 1969-12-31 19:00:00            0   100     0   284113  52983525503539 2022-03-01 10:00:00.003915000 1969-12-31 19:00:00       0\n",
       " 1 2022-03-01 10:00:00.004693248        P   F            N      C       1    SPY  434.87 1969-12-31 19:00:00            0   100     0   284114  52983543775536 2022-03-01 10:00:00.004665856 1969-12-31 19:00:00       0\n",
       " 2 2022-03-01 10:00:00.007199232        P   F            N      C       1    SPY  434.88 1969-12-31 19:00:00            0   100     0   284119  52983543775537 2022-03-01 10:00:00.007171328 1969-12-31 19:00:00       0\n",
       " 3 2022-03-01 10:00:00.007199232        P   F            N      C       1    SPY  434.88 1969-12-31 19:00:00            0   100     0   284120  52983543775538 2022-03-01 10:00:00.007171328 1969-12-31 19:00:00       0\n",
       " 4 2022-03-01 10:00:00.007274496        T   F            N      C       1    SPY  434.88 1969-12-31 19:00:00            0   100     0   284121  62879333112681 2022-03-01 10:00:00.006924808 1969-12-31 19:00:00       0}"
      ]
     },
     "execution_count": 41,
     "metadata": {},
     "output_type": "execute_result"
    }
   ],
   "source": [
    "trd = otp.DataSource('NYSE_TAQ', tick_type='TRD')\n",
    "count = trd.agg({'COUNT': otp.agg.count()})\n",
    "count = otp.merge([count], symbols=otp.Symbols(db='NYSE_TAQ'), presort=True, identify_input_ts=True)\n",
    "most_traded = count.high('COUNT', n=5)\n",
    "\n",
    "trd = otp.DataSource('NYSE_TAQ', tick_type='TRD')\n",
    "trd = trd.first(5)\n",
    "otp.run(trd, concurrency=8, symbols=most_traded, start=otp.dt(2022,3,1,10), end=otp.dt(2022,3,1,10,15))"
   ]
  },
  {
   "cell_type": "markdown",
   "id": "2cea6f20",
   "metadata": {
    "tags": []
   },
   "source": [
    "# Order book analytics"
   ]
  },
  {
   "cell_type": "markdown",
   "id": "0f7c7564-b11a-4a0c-a74a-da3d282e00df",
   "metadata": {
    "tags": []
   },
   "source": [
    "`onetick-py` offers functions for analyzing tick-by-tick order book. There are three representations of an order book. We'll show top 3 levels only for ease of exposition.\n",
    "\n",
    "A book can be displayed with a tick per level per side. We refer to a level in the book as a 'price level' or 'prl'."
   ]
  },
  {
   "cell_type": "code",
   "execution_count": 42,
   "id": "fdc6c8b7-9916-4040-a3da-35230bb86f29",
   "metadata": {},
   "outputs": [
    {
     "data": {
      "text/html": [
       "<div>\n",
       "<style scoped>\n",
       "    .dataframe tbody tr th:only-of-type {\n",
       "        vertical-align: middle;\n",
       "    }\n",
       "\n",
       "    .dataframe tbody tr th {\n",
       "        vertical-align: top;\n",
       "    }\n",
       "\n",
       "    .dataframe thead th {\n",
       "        text-align: right;\n",
       "    }\n",
       "</style>\n",
       "<table border=\"1\" class=\"dataframe\">\n",
       "  <thead>\n",
       "    <tr style=\"text-align: right;\">\n",
       "      <th></th>\n",
       "      <th>Time</th>\n",
       "      <th>PRICE</th>\n",
       "      <th>UPDATE_TIME</th>\n",
       "      <th>SIZE</th>\n",
       "      <th>LEVEL</th>\n",
       "      <th>BUY_SELL_FLAG</th>\n",
       "    </tr>\n",
       "  </thead>\n",
       "  <tbody>\n",
       "    <tr>\n",
       "      <th>0</th>\n",
       "      <td>2022-03-02 10:00:00</td>\n",
       "      <td>14076.00</td>\n",
       "      <td>2022-03-02 09:59:59.992707035</td>\n",
       "      <td>1</td>\n",
       "      <td>1</td>\n",
       "      <td>1</td>\n",
       "    </tr>\n",
       "    <tr>\n",
       "      <th>1</th>\n",
       "      <td>2022-03-02 10:00:00</td>\n",
       "      <td>14076.25</td>\n",
       "      <td>2022-03-02 09:59:59.953516579</td>\n",
       "      <td>2</td>\n",
       "      <td>2</td>\n",
       "      <td>1</td>\n",
       "    </tr>\n",
       "    <tr>\n",
       "      <th>2</th>\n",
       "      <td>2022-03-02 10:00:00</td>\n",
       "      <td>14076.50</td>\n",
       "      <td>2022-03-02 09:59:59.893691735</td>\n",
       "      <td>4</td>\n",
       "      <td>3</td>\n",
       "      <td>1</td>\n",
       "    </tr>\n",
       "    <tr>\n",
       "      <th>3</th>\n",
       "      <td>2022-03-02 10:00:00</td>\n",
       "      <td>14075.25</td>\n",
       "      <td>2022-03-02 09:59:59.992733435</td>\n",
       "      <td>1</td>\n",
       "      <td>1</td>\n",
       "      <td>0</td>\n",
       "    </tr>\n",
       "    <tr>\n",
       "      <th>4</th>\n",
       "      <td>2022-03-02 10:00:00</td>\n",
       "      <td>14075.00</td>\n",
       "      <td>2022-03-02 09:59:59.954720897</td>\n",
       "      <td>2</td>\n",
       "      <td>2</td>\n",
       "      <td>0</td>\n",
       "    </tr>\n",
       "    <tr>\n",
       "      <th>5</th>\n",
       "      <td>2022-03-02 10:00:00</td>\n",
       "      <td>14074.75</td>\n",
       "      <td>2022-03-02 09:59:59.948987231</td>\n",
       "      <td>2</td>\n",
       "      <td>3</td>\n",
       "      <td>0</td>\n",
       "    </tr>\n",
       "  </tbody>\n",
       "</table>\n",
       "</div>"
      ],
      "text/plain": [
       "                 Time     PRICE                   UPDATE_TIME  SIZE  LEVEL  BUY_SELL_FLAG\n",
       "0 2022-03-02 10:00:00  14076.00 2022-03-02 09:59:59.992707035     1      1              1\n",
       "1 2022-03-02 10:00:00  14076.25 2022-03-02 09:59:59.953516579     2      2              1\n",
       "2 2022-03-02 10:00:00  14076.50 2022-03-02 09:59:59.893691735     4      3              1\n",
       "3 2022-03-02 10:00:00  14075.25 2022-03-02 09:59:59.992733435     1      1              0\n",
       "4 2022-03-02 10:00:00  14075.00 2022-03-02 09:59:59.954720897     2      2              0\n",
       "5 2022-03-02 10:00:00  14074.75 2022-03-02 09:59:59.948987231     2      3              0"
      ]
     },
     "execution_count": 42,
     "metadata": {},
     "output_type": "execute_result"
    }
   ],
   "source": [
    "snapshot_time=start\n",
    "prl = otp.ObSnapshot(db='CME', tick_type='PRL_FULL', max_levels=3) \n",
    "otp.run(prl, symbols=emini, start=snapshot_time, end=snapshot_time)"
   ]
  },
  {
   "cell_type": "markdown",
   "id": "ba052b31-f3f0-44df-9744-935f4a5f4f7a",
   "metadata": {},
   "source": [
    "Alternatively, a book can show a tick per level with both ask and bid price/size info."
   ]
  },
  {
   "cell_type": "code",
   "execution_count": 43,
   "id": "2b4d9bec-832c-4b11-9d9e-131a086cd751",
   "metadata": {},
   "outputs": [
    {
     "data": {
      "text/html": [
       "<div>\n",
       "<style scoped>\n",
       "    .dataframe tbody tr th:only-of-type {\n",
       "        vertical-align: middle;\n",
       "    }\n",
       "\n",
       "    .dataframe tbody tr th {\n",
       "        vertical-align: top;\n",
       "    }\n",
       "\n",
       "    .dataframe thead th {\n",
       "        text-align: right;\n",
       "    }\n",
       "</style>\n",
       "<table border=\"1\" class=\"dataframe\">\n",
       "  <thead>\n",
       "    <tr style=\"text-align: right;\">\n",
       "      <th></th>\n",
       "      <th>Time</th>\n",
       "      <th>BID_PRICE</th>\n",
       "      <th>BID_UPDATE_TIME</th>\n",
       "      <th>BID_SIZE</th>\n",
       "      <th>ASK_PRICE</th>\n",
       "      <th>ASK_UPDATE_TIME</th>\n",
       "      <th>ASK_SIZE</th>\n",
       "      <th>LEVEL</th>\n",
       "    </tr>\n",
       "  </thead>\n",
       "  <tbody>\n",
       "    <tr>\n",
       "      <th>0</th>\n",
       "      <td>2022-03-02 10:00:00</td>\n",
       "      <td>14075.25</td>\n",
       "      <td>2022-03-02 09:59:59.992733435</td>\n",
       "      <td>1</td>\n",
       "      <td>14076.00</td>\n",
       "      <td>2022-03-02 09:59:59.992707035</td>\n",
       "      <td>1</td>\n",
       "      <td>1</td>\n",
       "    </tr>\n",
       "    <tr>\n",
       "      <th>1</th>\n",
       "      <td>2022-03-02 10:00:00</td>\n",
       "      <td>14075.00</td>\n",
       "      <td>2022-03-02 09:59:59.954720897</td>\n",
       "      <td>2</td>\n",
       "      <td>14076.25</td>\n",
       "      <td>2022-03-02 09:59:59.953516579</td>\n",
       "      <td>2</td>\n",
       "      <td>2</td>\n",
       "    </tr>\n",
       "    <tr>\n",
       "      <th>2</th>\n",
       "      <td>2022-03-02 10:00:00</td>\n",
       "      <td>14074.75</td>\n",
       "      <td>2022-03-02 09:59:59.948987231</td>\n",
       "      <td>2</td>\n",
       "      <td>14076.50</td>\n",
       "      <td>2022-03-02 09:59:59.893691735</td>\n",
       "      <td>4</td>\n",
       "      <td>3</td>\n",
       "    </tr>\n",
       "  </tbody>\n",
       "</table>\n",
       "</div>"
      ],
      "text/plain": [
       "                 Time  BID_PRICE               BID_UPDATE_TIME  BID_SIZE  ASK_PRICE               ASK_UPDATE_TIME  ASK_SIZE  LEVEL\n",
       "0 2022-03-02 10:00:00   14075.25 2022-03-02 09:59:59.992733435         1   14076.00 2022-03-02 09:59:59.992707035         1      1\n",
       "1 2022-03-02 10:00:00   14075.00 2022-03-02 09:59:59.954720897         2   14076.25 2022-03-02 09:59:59.953516579         2      2\n",
       "2 2022-03-02 10:00:00   14074.75 2022-03-02 09:59:59.948987231         2   14076.50 2022-03-02 09:59:59.893691735         4      3"
      ]
     },
     "execution_count": 43,
     "metadata": {},
     "output_type": "execute_result"
    }
   ],
   "source": [
    "snapshot_time=start\n",
    "prl = otp.ObSnapshotWide(db='CME', tick_type='PRL_FULL', max_levels=3)   \n",
    "otp.run(prl, symbols=emini, start=snapshot_time, end=snapshot_time)"
   ]
  },
  {
   "cell_type": "markdown",
   "id": "79833f4b-e4d8-4044-987c-0dfdb914bbba",
   "metadata": {},
   "source": [
    "Finally, all levels can be displayed in one tick."
   ]
  },
  {
   "cell_type": "code",
   "execution_count": 68,
   "id": "0104a9a8-0bde-4ccb-be63-8f2a9fd37793",
   "metadata": {},
   "outputs": [
    {
     "name": "stdout",
     "output_type": "stream",
     "text": [
      "                 Time  BID_PRICE1              BID_UPDATE_TIME1  BID_SIZE1  ASK_PRICE1              ASK_UPDATE_TIME1  ASK_SIZE1  BID_PRICE2              BID_UPDATE_TIME2  BID_SIZE2  ASK_PRICE2              ASK_UPDATE_TIME2  ASK_SIZE2  BID_PRICE3              BID_UPDATE_TIME3  BID_SIZE3  ASK_PRICE3              ASK_UPDATE_TIME3  ASK_SIZE3\n",
      "0 2022-03-02 10:00:00    14075.25 2022-03-02 09:59:59.992733435          1     14076.0 2022-03-02 09:59:59.992707035          1     14075.0 2022-03-02 09:59:59.954720897          2    14076.25 2022-03-02 09:59:59.953516579          2    14074.75 2022-03-02 09:59:59.948987231          2     14076.5 2022-03-02 09:59:59.893691735          4\n"
     ]
    }
   ],
   "source": [
    "snapshot_time=start\n",
    "prl = otp.ObSnapshotFlat(db='CME', tick_type='PRL_FULL', max_levels=3) \n",
    "print(otp.run(prl, symbols=emini, start=snapshot_time, end=snapshot_time))"
   ]
  },
  {
   "cell_type": "markdown",
   "id": "52f0d7a0-9999-419b-b81b-956d831b3155",
   "metadata": {},
   "source": [
    "We can output the book (in any of the three representation) on every change to price/size at any of the levels."
   ]
  },
  {
   "cell_type": "code",
   "execution_count": 69,
   "id": "b71a230b-a117-4703-9391-7f8f5245e968",
   "metadata": {},
   "outputs": [
    {
     "name": "stdout",
     "output_type": "stream",
     "text": [
      "                             Time  BID_PRICE1  BID_SIZE1  ASK_PRICE1  ASK_SIZE1  BID_PRICE2  BID_SIZE2  ASK_PRICE2  ASK_SIZE2  BID_PRICE3  BID_SIZE3  ASK_PRICE3  ASK_SIZE3\n",
      "0   2022-03-02 10:00:00.000000000    14075.25          1    14076.00          1    14075.00          2    14076.25          2    14074.75          2    14076.50          4\n",
      "1   2022-03-02 10:00:00.000788455    14075.00          2    14076.00          1    14074.75          2    14076.25          2    14074.50          2    14076.50          4\n",
      "2   2022-03-02 10:00:00.000788627    14074.75          2    14076.00          1    14074.50          2    14076.25          2    14074.25          2    14076.50          4\n",
      "3   2022-03-02 10:00:00.000789627    14074.50          2    14076.00          1    14074.25          2    14076.25          2    14074.00          2    14076.50          4\n",
      "4   2022-03-02 10:00:00.000790993    14074.50          1    14076.00          1    14074.25          2    14076.25          2    14074.00          2    14076.50          4\n",
      "..                            ...         ...        ...         ...        ...         ...        ...         ...        ...         ...        ...         ...        ...\n",
      "341 2022-03-02 10:00:00.091403659    14074.50          2    14075.25          1    14074.25          3    14075.50          1    14073.75          2    14075.75          1\n",
      "342 2022-03-02 10:00:00.091700529    14074.50          2    14075.50          1    14074.25          3    14075.75          1    14073.75          2    14076.00          1\n",
      "343 2022-03-02 10:00:00.091924533    14074.50          2    14075.50          2    14074.25          3    14075.75          1    14073.75          2    14076.00          1\n",
      "344 2022-03-02 10:00:00.094879495    14074.50          2    14075.25          1    14074.25          3    14075.50          2    14073.75          2    14075.75          1\n",
      "345 2022-03-02 10:00:00.097022501    14074.50          2    14075.50          2    14074.25          3    14075.75          1    14073.75          2    14076.00          1\n",
      "\n",
      "[346 rows x 13 columns]\n"
     ]
    }
   ],
   "source": [
    "prl = otp.ObSnapshotFlat(db='CME', tick_type='PRL_FULL', max_levels=3, running=True)\n",
    "prl = prl.drop(r\".+TIME\\d\")\n",
    "print(otp.run(prl, symbols=emini, start=start,  end=start+otp.Milli(100)))"
   ]
  },
  {
   "cell_type": "markdown",
   "id": "b9a753f8-8ba4-4e07-a60b-832dc704e627",
   "metadata": {},
   "source": [
    "The `ObSnapshot` method doesn't require specifying `max_levels`. The entire book is returned when the parameter is not specified."
   ]
  },
  {
   "cell_type": "code",
   "execution_count": 46,
   "id": "36fec591-1b72-43aa-8403-b3d70be095a2",
   "metadata": {},
   "outputs": [
    {
     "data": {
      "text/html": [
       "<div>\n",
       "<style scoped>\n",
       "    .dataframe tbody tr th:only-of-type {\n",
       "        vertical-align: middle;\n",
       "    }\n",
       "\n",
       "    .dataframe tbody tr th {\n",
       "        vertical-align: top;\n",
       "    }\n",
       "\n",
       "    .dataframe thead th {\n",
       "        text-align: right;\n",
       "    }\n",
       "</style>\n",
       "<table border=\"1\" class=\"dataframe\">\n",
       "  <thead>\n",
       "    <tr style=\"text-align: right;\">\n",
       "      <th></th>\n",
       "      <th>Time</th>\n",
       "      <th>PRICE</th>\n",
       "      <th>UPDATE_TIME</th>\n",
       "      <th>SIZE</th>\n",
       "      <th>LEVEL</th>\n",
       "      <th>BUY_SELL_FLAG</th>\n",
       "    </tr>\n",
       "  </thead>\n",
       "  <tbody>\n",
       "    <tr>\n",
       "      <th>0</th>\n",
       "      <td>2022-03-02 10:00:00</td>\n",
       "      <td>14076.00</td>\n",
       "      <td>2022-03-02 09:59:59.992707035</td>\n",
       "      <td>1</td>\n",
       "      <td>1</td>\n",
       "      <td>1</td>\n",
       "    </tr>\n",
       "    <tr>\n",
       "      <th>1</th>\n",
       "      <td>2022-03-02 10:00:00</td>\n",
       "      <td>14076.25</td>\n",
       "      <td>2022-03-02 09:59:59.953516579</td>\n",
       "      <td>2</td>\n",
       "      <td>2</td>\n",
       "      <td>1</td>\n",
       "    </tr>\n",
       "    <tr>\n",
       "      <th>2</th>\n",
       "      <td>2022-03-02 10:00:00</td>\n",
       "      <td>14076.50</td>\n",
       "      <td>2022-03-02 09:59:59.893691735</td>\n",
       "      <td>4</td>\n",
       "      <td>3</td>\n",
       "      <td>1</td>\n",
       "    </tr>\n",
       "    <tr>\n",
       "      <th>3</th>\n",
       "      <td>2022-03-02 10:00:00</td>\n",
       "      <td>14076.75</td>\n",
       "      <td>2022-03-02 09:59:59.893054207</td>\n",
       "      <td>2</td>\n",
       "      <td>4</td>\n",
       "      <td>1</td>\n",
       "    </tr>\n",
       "    <tr>\n",
       "      <th>4</th>\n",
       "      <td>2022-03-02 10:00:00</td>\n",
       "      <td>14077.00</td>\n",
       "      <td>2022-03-02 09:59:59.334717127</td>\n",
       "      <td>2</td>\n",
       "      <td>5</td>\n",
       "      <td>1</td>\n",
       "    </tr>\n",
       "    <tr>\n",
       "      <th>...</th>\n",
       "      <td>...</td>\n",
       "      <td>...</td>\n",
       "      <td>...</td>\n",
       "      <td>...</td>\n",
       "      <td>...</td>\n",
       "      <td>...</td>\n",
       "    </tr>\n",
       "    <tr>\n",
       "      <th>1628</th>\n",
       "      <td>2022-03-02 10:00:00</td>\n",
       "      <td>6490.00</td>\n",
       "      <td>2022-03-01 17:59:59.999000000</td>\n",
       "      <td>3</td>\n",
       "      <td>809</td>\n",
       "      <td>0</td>\n",
       "    </tr>\n",
       "    <tr>\n",
       "      <th>1629</th>\n",
       "      <td>2022-03-02 10:00:00</td>\n",
       "      <td>1586.00</td>\n",
       "      <td>2022-03-01 17:59:59.999000000</td>\n",
       "      <td>1</td>\n",
       "      <td>810</td>\n",
       "      <td>0</td>\n",
       "    </tr>\n",
       "    <tr>\n",
       "      <th>1630</th>\n",
       "      <td>2022-03-02 10:00:00</td>\n",
       "      <td>786.50</td>\n",
       "      <td>2022-03-01 17:59:59.999000000</td>\n",
       "      <td>1</td>\n",
       "      <td>811</td>\n",
       "      <td>0</td>\n",
       "    </tr>\n",
       "    <tr>\n",
       "      <th>1631</th>\n",
       "      <td>2022-03-02 10:00:00</td>\n",
       "      <td>200.00</td>\n",
       "      <td>2022-03-01 17:59:59.999000000</td>\n",
       "      <td>1</td>\n",
       "      <td>812</td>\n",
       "      <td>0</td>\n",
       "    </tr>\n",
       "    <tr>\n",
       "      <th>1632</th>\n",
       "      <td>2022-03-02 10:00:00</td>\n",
       "      <td>1.00</td>\n",
       "      <td>2022-03-01 17:59:59.999000000</td>\n",
       "      <td>1</td>\n",
       "      <td>813</td>\n",
       "      <td>0</td>\n",
       "    </tr>\n",
       "  </tbody>\n",
       "</table>\n",
       "<p>1633 rows × 6 columns</p>\n",
       "</div>"
      ],
      "text/plain": [
       "                    Time     PRICE                   UPDATE_TIME  SIZE  LEVEL  BUY_SELL_FLAG\n",
       "0    2022-03-02 10:00:00  14076.00 2022-03-02 09:59:59.992707035     1      1              1\n",
       "1    2022-03-02 10:00:00  14076.25 2022-03-02 09:59:59.953516579     2      2              1\n",
       "2    2022-03-02 10:00:00  14076.50 2022-03-02 09:59:59.893691735     4      3              1\n",
       "3    2022-03-02 10:00:00  14076.75 2022-03-02 09:59:59.893054207     2      4              1\n",
       "4    2022-03-02 10:00:00  14077.00 2022-03-02 09:59:59.334717127     2      5              1\n",
       "...                  ...       ...                           ...   ...    ...            ...\n",
       "1628 2022-03-02 10:00:00   6490.00 2022-03-01 17:59:59.999000000     3    809              0\n",
       "1629 2022-03-02 10:00:00   1586.00 2022-03-01 17:59:59.999000000     1    810              0\n",
       "1630 2022-03-02 10:00:00    786.50 2022-03-01 17:59:59.999000000     1    811              0\n",
       "1631 2022-03-02 10:00:00    200.00 2022-03-01 17:59:59.999000000     1    812              0\n",
       "1632 2022-03-02 10:00:00      1.00 2022-03-01 17:59:59.999000000     1    813              0\n",
       "\n",
       "[1633 rows x 6 columns]"
      ]
     },
     "execution_count": 46,
     "metadata": {},
     "output_type": "execute_result"
    }
   ],
   "source": [
    "snapshot_time=start\n",
    "prl = otp.ObSnapshot(db='CME', tick_type='PRL_FULL') \n",
    "otp.run(prl, symbols=emini, start=snapshot_time, end=snapshot_time)"
   ]
  },
  {
   "cell_type": "markdown",
   "id": "d3fe4af4-7489-4dff-8a18-6c3387c742f3",
   "metadata": {},
   "source": [
    "## Book Imbalance\n",
    "\n",
    "Let's find the time weighted book imbalance. The imbalance at a given time is defined as the sum of the bid sizes at the top x levels minus the sum of the ask sizes at the top x levels divided by the sum of these two terms: the values close to 1 mean the book is much heavier on the bid side, close to -1 -- on the ask side, equal to zero means the sizes are the same."
   ]
  },
  {
   "cell_type": "code",
   "execution_count": 47,
   "id": "a032cd56-7455-436a-be75-c45ed32ecd67",
   "metadata": {},
   "outputs": [
    {
     "name": "stdout",
     "output_type": "stream",
     "text": [
      "                           Time  BID_PRICE               BID_UPDATE_TIME  BID_SIZE  ASK_PRICE               ASK_UPDATE_TIME  ASK_SIZE  LEVEL\n",
      "0 2022-03-02 10:00:00.000000000   14075.25 2022-03-02 09:59:59.992733435         1   14076.00 2022-03-02 09:59:59.992707035         1      1\n",
      "1 2022-03-02 10:00:00.000000000   14075.00 2022-03-02 09:59:59.954720897         2   14076.25 2022-03-02 09:59:59.953516579         2      2\n",
      "2 2022-03-02 10:00:00.000000000   14074.75 2022-03-02 09:59:59.948987231         2   14076.50 2022-03-02 09:59:59.893691735         4      3\n",
      "3 2022-03-02 10:00:00.000788455   14075.00 2022-03-02 09:59:59.954720897         2   14076.00 2022-03-02 09:59:59.992707035         1      1\n",
      "4 2022-03-02 10:00:00.000788455   14074.75 2022-03-02 09:59:59.948987231         2   14076.25 2022-03-02 09:59:59.953516579         2      2\n",
      "5 2022-03-02 10:00:00.000788455   14074.50 2022-03-02 09:59:59.893306297         2   14076.50 2022-03-02 09:59:59.893691735         4      3\n",
      "6 2022-03-02 10:00:00.000788627   14074.75 2022-03-02 09:59:59.948987231         2   14076.00 2022-03-02 09:59:59.992707035         1      1\n",
      "                           Time  ask_vol  bid_vol       imb\n",
      "0 2022-03-02 10:00:00.000000000        7        5 -0.166667\n",
      "1 2022-03-02 10:00:00.000788455        7        6 -0.076923\n",
      "2 2022-03-02 10:00:00.000788627        7        6 -0.076923\n",
      "3 2022-03-02 10:00:00.000789627        7        6 -0.076923\n",
      "4 2022-03-02 10:00:00.000790993        7        5 -0.166667\n",
      "                     Time    tw_imb      mean     stdev\n",
      "0 2022-03-02 10:00:00.100  0.018318  0.040778  0.204065\n"
     ]
    }
   ],
   "source": [
    "x = 3\n",
    "\n",
    "prl = otp.ObSnapshotWide(db='CME', tick_type='PRL_FULL', max_levels=x, running=True)\n",
    "prls_df = otp.run(prl, symbols=emini, start=start, end=start+otp.Milli(100))\n",
    "print(prls_df.head(7))\n",
    "\n",
    "prl = prl.agg({'ask_vol': otp.agg.sum('ASK_SIZE'), 'bid_vol': otp.agg.sum('BID_SIZE')}, bucket_units='ticks', bucket_interval=x)\n",
    "prl['imb'] = (prl['bid_vol'] - prl['ask_vol']) / (prl['bid_vol'] + prl['ask_vol'])\n",
    "prls_df = otp.run(prl, symbols=emini, start=start, end=start+otp.Milli(100))\n",
    "print(prls_df.head())\n",
    "\n",
    "imb_stats = prl.agg({\n",
    "    'tw_imb': otp.agg.tw_average('imb'),\n",
    "    'mean':   otp.agg.average('imb'),\n",
    "    'stdev':  otp.agg.stddev('imb'),\n",
    "})\n",
    "print(otp.run(imb_stats, symbols=emini, start=start, end=start+otp.Milli(100)))\n",
    "\n"
   ]
  },
  {
   "cell_type": "markdown",
   "id": "2b071071-0b2d-4ac1-92bf-8976797e1de5",
   "metadata": {},
   "source": [
    "## Book sweep\n",
    "\n",
    "There are two version of book sweep: by price and by quantity. Book sweep by price, take a price as an input and returns the total quatity available at that price or better. Book sweep by quantity, takes a quantity as an input and returns the VWAP if the quantity were executed immediately."
   ]
  },
  {
   "cell_type": "code",
   "execution_count": 48,
   "id": "edd6a081-17b4-4414-813b-0d308fc00e19",
   "metadata": {},
   "outputs": [
    {
     "name": "stdout",
     "output_type": "stream",
     "text": [
      "                 Time  total_qty\n",
      "0 2022-03-02 10:00:00          3\n",
      "                 Time  total_qty\n",
      "0 2022-03-02 10:00:00         11\n"
     ]
    }
   ],
   "source": [
    "def side_to_direction(side):\n",
    "    return 1 if side == 'ASK' else -1\n",
    "\n",
    "def sweep_by_price(side, price):\n",
    "    prl = otp.ObSnapshot(db='CME', tick_type='PRL_FULL', side=side)\n",
    "    direction = side_to_direction(side)\n",
    "    prl, _ = prl[direction * prl['PRICE'] <= direction * price]\n",
    "    prl = prl.agg({'total_qty': otp.agg.sum('SIZE')})\n",
    "    return otp.run(prl, symbols=emini, start=start, end=start)\n",
    "\n",
    "print(sweep_by_price('BID', 14075))\n",
    "print(sweep_by_price('ASK', 14077))"
   ]
  },
  {
   "cell_type": "code",
   "execution_count": 49,
   "id": "436f017a-106b-4e22-b256-26d6617b99b3",
   "metadata": {},
   "outputs": [
    {
     "name": "stdout",
     "output_type": "stream",
     "text": [
      "                 Time       VWAP\n",
      "0 2022-03-02 10:00:00  14074.625\n",
      "                 Time     VWAP\n",
      "0 2022-03-02 10:00:00  14076.5\n"
     ]
    }
   ],
   "source": [
    "def sweep_by_qty(side, qty):\n",
    "    prl = otp.ObSnapshot(db='CME', tick_type='PRL_FULL', side=side)\n",
    "    prl = prl.agg({'total_qty': otp.agg.sum('SIZE')}, running=True, all_fields=True)\n",
    "    direction = side_to_direction(side)\n",
    "    prl, _ = prl[prl['total_qty'] - prl['SIZE'] < qty]\n",
    "    # update the SIZE in the last tick only so that total_qty is exactly qty\n",
    "    prl['SIZE'] = prl.apply(lambda tick: prl['SIZE'] - (prl['total_qty'] - qty) if prl['total_qty'] > qty else prl['SIZE'])\n",
    "    prl = prl.agg({'VWAP': otp.agg.vwap('PRICE', 'SIZE')})\n",
    "    return otp.run(prl, symbols=emini, start=start, end=start)\n",
    "print(sweep_by_qty('BID', 10))\n",
    "print(sweep_by_qty('ASK', 10))"
   ]
  },
  {
   "cell_type": "markdown",
   "id": "50fe9668-cef0-4170-82af-a3dd914846d7",
   "metadata": {},
   "source": [
    "## Market By Order\n",
    "Order Book data may be annotated with 'key' fields lets you break down the book by each value of the 'key' fields. For example, a book could by keyed by market participant ID, allowing you to see the book with the orders of a given market participant only. Some exchanges provide 'market-by-order' data where the book is keyed by order id. Set `show_full_detail` to `True` to see the book broken down to the most granular level. The example below is a market-by-order book."
   ]
  },
  {
   "cell_type": "code",
   "execution_count": 70,
   "id": "e241ca31-d1c4-48b1-97b8-af6f1951939a",
   "metadata": {},
   "outputs": [
    {
     "name": "stdout",
     "output_type": "stream",
     "text": [
      "                 Time       ORDER_ID  BUY_SELL_FLAG ORDER_TYPE     PRICE  SIZE  TIME_PRIORITY RECORD_TYPE        DELETED_TIME  TICK_STATUS  OMDSEQ  LEVEL                   UPDATE_TIME\n",
      "0 2022-03-02 10:00:00  6830860875633              0          L  14075.25     1    43132163778           R 1969-12-31 19:00:00            0       3      1 2022-03-02 09:59:59.992733435\n",
      "1 2022-03-02 10:00:00  6830860875525              0          L  14075.00     1    43132163642           R 1969-12-31 19:00:00            0      11      2 2022-03-02 09:59:59.949569201\n",
      "2 2022-03-02 10:00:00  6830860875517              0          L  14075.00     1    43132163634           R 1969-12-31 19:00:00            0       3      2 2022-03-02 09:59:59.949264581\n",
      "3 2022-03-02 10:00:00  6830860875515              0          L  14074.75     1    43132163632           R 1969-12-31 19:00:00            0       0      3 2022-03-02 09:59:59.948987231\n",
      "4 2022-03-02 10:00:00  6830860875480              0          L  14074.75     1    43132163583           R 1969-12-31 19:00:00            0       3      3 2022-03-02 09:59:59.910612819\n"
     ]
    }
   ],
   "source": [
    "prl = otp.ObSnapshot('CME', tick_type='PRL_FULL', side='BID', show_full_detail=True)\n",
    "prl = prl.first(5)\n",
    "print(otp.run(prl, symbols=emini, start=start, end=start))"
   ]
  },
  {
   "cell_type": "markdown",
   "id": "c685866c-4aef-4151-a00c-08a52a94da08",
   "metadata": {},
   "source": [
    "Market-by-order data can be used to analyze/validate the priority mechanism used by the exchange."
   ]
  },
  {
   "cell_type": "code",
   "execution_count": 51,
   "id": "eafd9661-7b4f-45c1-bc51-e213121d1dd3",
   "metadata": {},
   "outputs": [
    {
     "data": {
      "text/html": [
       "<div>\n",
       "<style scoped>\n",
       "    .dataframe tbody tr th:only-of-type {\n",
       "        vertical-align: middle;\n",
       "    }\n",
       "\n",
       "    .dataframe tbody tr th {\n",
       "        vertical-align: top;\n",
       "    }\n",
       "\n",
       "    .dataframe thead th {\n",
       "        text-align: right;\n",
       "    }\n",
       "</style>\n",
       "<table border=\"1\" class=\"dataframe\">\n",
       "  <thead>\n",
       "    <tr style=\"text-align: right;\">\n",
       "      <th></th>\n",
       "      <th>ORDER_ID</th>\n",
       "      <th>PRICE</th>\n",
       "      <th>LEVEL</th>\n",
       "      <th>TIME_PRIORITY</th>\n",
       "      <th>SIZE</th>\n",
       "      <th>BUY_SELL_FLAG</th>\n",
       "      <th>ORDER_TYPE</th>\n",
       "      <th>RECORD_TYPE</th>\n",
       "      <th>UPDATE_TIME</th>\n",
       "      <th>TICK_STATUS</th>\n",
       "    </tr>\n",
       "  </thead>\n",
       "  <tbody>\n",
       "    <tr>\n",
       "      <th>0</th>\n",
       "      <td>6830860875633</td>\n",
       "      <td>14075.25</td>\n",
       "      <td>1</td>\n",
       "      <td>43132163778</td>\n",
       "      <td>1</td>\n",
       "      <td>0</td>\n",
       "      <td>L</td>\n",
       "      <td>R</td>\n",
       "      <td>2022-03-02 09:59:59.992733435</td>\n",
       "      <td>0</td>\n",
       "    </tr>\n",
       "    <tr>\n",
       "      <th>1</th>\n",
       "      <td>6830860875517</td>\n",
       "      <td>14075.00</td>\n",
       "      <td>2</td>\n",
       "      <td>43132163634</td>\n",
       "      <td>1</td>\n",
       "      <td>0</td>\n",
       "      <td>L</td>\n",
       "      <td>R</td>\n",
       "      <td>2022-03-02 09:59:59.949264581</td>\n",
       "      <td>0</td>\n",
       "    </tr>\n",
       "    <tr>\n",
       "      <th>2</th>\n",
       "      <td>6830860875525</td>\n",
       "      <td>14075.00</td>\n",
       "      <td>2</td>\n",
       "      <td>43132163642</td>\n",
       "      <td>1</td>\n",
       "      <td>0</td>\n",
       "      <td>L</td>\n",
       "      <td>R</td>\n",
       "      <td>2022-03-02 09:59:59.949569201</td>\n",
       "      <td>0</td>\n",
       "    </tr>\n",
       "    <tr>\n",
       "      <th>3</th>\n",
       "      <td>6830860875480</td>\n",
       "      <td>14074.75</td>\n",
       "      <td>3</td>\n",
       "      <td>43132163583</td>\n",
       "      <td>1</td>\n",
       "      <td>0</td>\n",
       "      <td>L</td>\n",
       "      <td>R</td>\n",
       "      <td>2022-03-02 09:59:59.910612819</td>\n",
       "      <td>0</td>\n",
       "    </tr>\n",
       "    <tr>\n",
       "      <th>4</th>\n",
       "      <td>6830860875515</td>\n",
       "      <td>14074.75</td>\n",
       "      <td>3</td>\n",
       "      <td>43132163632</td>\n",
       "      <td>1</td>\n",
       "      <td>0</td>\n",
       "      <td>L</td>\n",
       "      <td>R</td>\n",
       "      <td>2022-03-02 09:59:59.948987231</td>\n",
       "      <td>0</td>\n",
       "    </tr>\n",
       "  </tbody>\n",
       "</table>\n",
       "</div>"
      ],
      "text/plain": [
       "        ORDER_ID     PRICE  LEVEL  TIME_PRIORITY  SIZE  BUY_SELL_FLAG ORDER_TYPE RECORD_TYPE                   UPDATE_TIME  TICK_STATUS\n",
       "0  6830860875633  14075.25      1    43132163778     1              0          L           R 2022-03-02 09:59:59.992733435            0\n",
       "1  6830860875517  14075.00      2    43132163634     1              0          L           R 2022-03-02 09:59:59.949264581            0\n",
       "2  6830860875525  14075.00      2    43132163642     1              0          L           R 2022-03-02 09:59:59.949569201            0\n",
       "3  6830860875480  14074.75      3    43132163583     1              0          L           R 2022-03-02 09:59:59.910612819            0\n",
       "4  6830860875515  14074.75      3    43132163632     1              0          L           R 2022-03-02 09:59:59.948987231            0"
      ]
     },
     "execution_count": 51,
     "metadata": {},
     "output_type": "execute_result"
    }
   ],
   "source": [
    "prl = otp.ObSnapshot('CME', tick_type='PRL_FULL', side='BID', show_full_detail=True)\n",
    "\n",
    "\"\"\"\n",
    "ORDER_TYPE:\n",
    "L = Limit order\n",
    "I = Implied order\n",
    "\n",
    "Implied liquidity doesn’t have priority as it's always last to execute at any price level. \n",
    "It also doesn’t have an order ID, so the IDs that you see in the db are synthetic \n",
    "(consisting of 1 or 2 for the 1st/2nd implied level, and E/F for the buy/sell side respectively).\n",
    "\n",
    "In order to rank the orders within a given price point by priority, you need to sort first by ORDER_TYPE (“L” comes before “I”),\n",
    "then by TIME_PRIORITY (lowest value comes first).\n",
    "\"\"\"\n",
    "prl = prl.sort(['LEVEL','ORDER_TYPE', 'TIME_PRIORITY'],ascending=[True,False, True])\n",
    "orders = otp.run(prl, symbols=emini, start=start, end=start);\n",
    "orders = orders[['ORDER_ID', 'PRICE', 'LEVEL', 'TIME_PRIORITY','SIZE', 'BUY_SELL_FLAG', 'ORDER_TYPE', 'RECORD_TYPE', 'UPDATE_TIME', 'TICK_STATUS']]\n",
    "orders.head()"
   ]
  },
  {
   "cell_type": "markdown",
   "id": "2d575cba",
   "metadata": {},
   "source": [
    "# Best practices"
   ]
  },
  {
   "cell_type": "markdown",
   "id": "914f1590",
   "metadata": {},
   "source": [
    "## The golden rule of otp: call `otp.run` as late as possible\n",
    "Processing before the `otp.run` call is good because \n",
    "- it takes place in OneTick which is optimized for time series processing\n",
    "- it is parallelized by symbol and query (e.g., when \"join with query\" is called)\n",
    "- it takes place in a scalable environment\n",
    "\n",
    "Processing after the `otp.run` call is bad because\n",
    "- it takes place in python which is slow\n",
    "- it takes place in the notebook which is limited by a fixed and normally small instance size where the notebook runs"
   ]
  },
  {
   "cell_type": "markdown",
   "id": "690db597",
   "metadata": {},
   "source": [
    "Bad:"
   ]
  },
  {
   "cell_type": "code",
   "execution_count": 52,
   "id": "c5bd2058",
   "metadata": {},
   "outputs": [
    {
     "data": {
      "text/plain": [
       "367803"
      ]
     },
     "execution_count": 52,
     "metadata": {},
     "output_type": "execute_result"
    }
   ],
   "source": [
    "trd = otp.DataSource('CME', tick_type='TRD')\n",
    "trd_df = otp.run(trd, start=start, end=end, symbols=emini)\n",
    "trd_df['SIZE'].agg('sum')"
   ]
  },
  {
   "cell_type": "markdown",
   "id": "d6f453de",
   "metadata": {},
   "source": [
    "Good:"
   ]
  },
  {
   "cell_type": "code",
   "execution_count": 53,
   "id": "5c4ab2bd",
   "metadata": {},
   "outputs": [
    {
     "data": {
      "text/html": [
       "<div>\n",
       "<style scoped>\n",
       "    .dataframe tbody tr th:only-of-type {\n",
       "        vertical-align: middle;\n",
       "    }\n",
       "\n",
       "    .dataframe tbody tr th {\n",
       "        vertical-align: top;\n",
       "    }\n",
       "\n",
       "    .dataframe thead th {\n",
       "        text-align: right;\n",
       "    }\n",
       "</style>\n",
       "<table border=\"1\" class=\"dataframe\">\n",
       "  <thead>\n",
       "    <tr style=\"text-align: right;\">\n",
       "      <th></th>\n",
       "      <th>Time</th>\n",
       "      <th>VOLUME</th>\n",
       "    </tr>\n",
       "  </thead>\n",
       "  <tbody>\n",
       "    <tr>\n",
       "      <th>0</th>\n",
       "      <td>2022-03-02 16:00:00</td>\n",
       "      <td>367803</td>\n",
       "    </tr>\n",
       "  </tbody>\n",
       "</table>\n",
       "</div>"
      ],
      "text/plain": [
       "                 Time  VOLUME\n",
       "0 2022-03-02 16:00:00  367803"
      ]
     },
     "execution_count": 53,
     "metadata": {},
     "output_type": "execute_result"
    }
   ],
   "source": [
    "trd = otp.DataSource('CME', tick_type='TRD')\n",
    "\n",
    "trd = trd.agg({'VOLUME': otp.agg.sum(trd['SIZE'])})\n",
    "\n",
    "otp.run(trd, start=start, end=end, symbols=emini)"
   ]
  },
  {
   "cell_type": "markdown",
   "id": "291927dd",
   "metadata": {},
   "source": [
    "Bad:"
   ]
  },
  {
   "cell_type": "code",
   "execution_count": 71,
   "id": "220e556e",
   "metadata": {},
   "outputs": [
    {
     "name": "stdout",
     "output_type": "stream",
     "text": [
      "                              Time           EXCH_TIME  PRICE  SIZE AGGRESSOR_SIDE TRADE_TYPE TRADE_PERIOD BOOK_TYPE TRADE_ID BUY_ORDER_ID SELL_ORDER_ID        DELETED_TIME  TICK_STATUS  OMDSEQ\n",
      "271  2022-03-02 10:00:07.592961899 1969-12-31 19:00:00    NaN     1                       LEG            -         1                                     1969-12-31 19:00:00            0       9\n",
      "272  2022-03-02 10:00:07.593666573 1969-12-31 19:00:00    NaN     2                       LEG            -         1                                     1969-12-31 19:00:00            0       0\n",
      "3114 2022-03-02 10:02:20.046438331 1969-12-31 19:00:00    NaN     3                       LEG            -         1                                     1969-12-31 19:00:00            0       0\n",
      "4753 2022-03-02 10:03:15.584272405 1969-12-31 19:00:00    NaN     1                       LEG            -         1                                     1969-12-31 19:00:00            0       3\n",
      "5328 2022-03-02 10:03:35.612187685 1969-12-31 19:00:00    NaN     1                       LEG            -         1                                     1969-12-31 19:00:00            0       0\n"
     ]
    }
   ],
   "source": [
    "trd = otp.DataSource('CME', tick_type='TRD')\n",
    "trd_df = otp.run(trd, start=start, end=end, symbols=emini)\n",
    "print(trd_df[trd_df['TRADE_TYPE'] == 'LEG'].head())"
   ]
  },
  {
   "cell_type": "markdown",
   "id": "fcdeebc9",
   "metadata": {},
   "source": [
    "Good:"
   ]
  },
  {
   "cell_type": "code",
   "execution_count": 72,
   "id": "0221a202",
   "metadata": {},
   "outputs": [
    {
     "name": "stdout",
     "output_type": "stream",
     "text": [
      "                           Time           EXCH_TIME  PRICE  SIZE AGGRESSOR_SIDE TRADE_TYPE TRADE_PERIOD BOOK_TYPE TRADE_ID BUY_ORDER_ID SELL_ORDER_ID        DELETED_TIME  TICK_STATUS  OMDSEQ\n",
      "0 2022-03-02 10:00:07.592961899 1969-12-31 19:00:00    NaN     1                       LEG            -         1                                     1969-12-31 19:00:00            0       9\n",
      "1 2022-03-02 10:00:07.593666573 1969-12-31 19:00:00    NaN     2                       LEG            -         1                                     1969-12-31 19:00:00            0       0\n",
      "2 2022-03-02 10:02:20.046438331 1969-12-31 19:00:00    NaN     3                       LEG            -         1                                     1969-12-31 19:00:00            0       0\n",
      "3 2022-03-02 10:03:15.584272405 1969-12-31 19:00:00    NaN     1                       LEG            -         1                                     1969-12-31 19:00:00            0       3\n",
      "4 2022-03-02 10:03:35.612187685 1969-12-31 19:00:00    NaN     1                       LEG            -         1                                     1969-12-31 19:00:00            0       0\n"
     ]
    }
   ],
   "source": [
    "trd = otp.DataSource('CME', tick_type='TRD')\n",
    "leg, notleg = trd[trd['TRADE_TYPE'] == 'LEG']\n",
    "leg = leg.first(5)\n",
    "print(otp.run(leg, start=start, end=end, symbols=emini))"
   ]
  },
  {
   "cell_type": "markdown",
   "id": "394c6e6c",
   "metadata": {},
   "source": [
    "Bad:"
   ]
  },
  {
   "cell_type": "code",
   "execution_count": 56,
   "id": "d4b7b7f0",
   "metadata": {},
   "outputs": [
    {
     "data": {
      "text/plain": [
       "array(['-', 'LEG', 'IMP'], dtype=object)"
      ]
     },
     "execution_count": 56,
     "metadata": {},
     "output_type": "execute_result"
    }
   ],
   "source": [
    "trd = otp.DataSource('CME', tick_type='TRD')\n",
    "trd_df = otp.run(trd, start=start, end=end, symbols=emini)\n",
    "trd_df['TRADE_TYPE'].unique()"
   ]
  },
  {
   "cell_type": "markdown",
   "id": "311872f2",
   "metadata": {},
   "source": [
    "Good:"
   ]
  },
  {
   "cell_type": "code",
   "execution_count": 57,
   "id": "fd898f23",
   "metadata": {},
   "outputs": [
    {
     "data": {
      "text/html": [
       "<div>\n",
       "<style scoped>\n",
       "    .dataframe tbody tr th:only-of-type {\n",
       "        vertical-align: middle;\n",
       "    }\n",
       "\n",
       "    .dataframe tbody tr th {\n",
       "        vertical-align: top;\n",
       "    }\n",
       "\n",
       "    .dataframe thead th {\n",
       "        text-align: right;\n",
       "    }\n",
       "</style>\n",
       "<table border=\"1\" class=\"dataframe\">\n",
       "  <thead>\n",
       "    <tr style=\"text-align: right;\">\n",
       "      <th></th>\n",
       "      <th>Time</th>\n",
       "      <th>TRADE_TYPE</th>\n",
       "    </tr>\n",
       "  </thead>\n",
       "  <tbody>\n",
       "    <tr>\n",
       "      <th>0</th>\n",
       "      <td>2022-03-02 16:00:00</td>\n",
       "      <td>-</td>\n",
       "    </tr>\n",
       "    <tr>\n",
       "      <th>1</th>\n",
       "      <td>2022-03-02 16:00:00</td>\n",
       "      <td>LEG</td>\n",
       "    </tr>\n",
       "    <tr>\n",
       "      <th>2</th>\n",
       "      <td>2022-03-02 16:00:00</td>\n",
       "      <td>IMP</td>\n",
       "    </tr>\n",
       "  </tbody>\n",
       "</table>\n",
       "</div>"
      ],
      "text/plain": [
       "                 Time TRADE_TYPE\n",
       "0 2022-03-02 16:00:00          -\n",
       "1 2022-03-02 16:00:00        LEG\n",
       "2 2022-03-02 16:00:00        IMP"
      ]
     },
     "execution_count": 57,
     "metadata": {},
     "output_type": "execute_result"
    }
   ],
   "source": [
    "trd = otp.DataSource('CME', tick_type='TRD')\n",
    "trd = trd.distinct(keys=['TRADE_TYPE'])\n",
    "otp.run(trd, start=start, end=end, symbols=emini)"
   ]
  },
  {
   "cell_type": "markdown",
   "id": "3e4fe65b",
   "metadata": {},
   "source": [
    "# More advanced concepts"
   ]
  },
  {
   "cell_type": "markdown",
   "id": "c4f42fbb",
   "metadata": {
    "tags": []
   },
   "source": [
    "### Timezones"
   ]
  },
  {
   "cell_type": "code",
   "execution_count": 58,
   "id": "5b6ddc34",
   "metadata": {},
   "outputs": [
    {
     "name": "stdout",
     "output_type": "stream",
     "text": [
      "                           Time   PRICE\n",
      "0 2022-03-01 10:00:04.133843068  164.01\n",
      "                           Time     PRICE\n",
      "0 2022-03-01 10:00:00.010168563  165.2822\n",
      "                           Time   PRICE\n",
      "0 2022-03-01 10:00:00.003529175  165.75\n"
     ]
    }
   ],
   "source": [
    "# this sets the timezone for all of the otp calls until its redefined\n",
    "otp.config['tz'] = 'GMT'\n",
    "trd = otp.DataSource('NYSE_TAQ', tick_type='TRD')\n",
    "print(otp.run(trd.first()[['PRICE']],start=otp.dt(2022,3,1,10), end=otp.dt(2022,3,1,10,15)))\n",
    "\n",
    "otp.config['tz'] = 'America/Chicago'\n",
    "trd = otp.DataSource('NYSE_TAQ', tick_type='TRD')\n",
    "print(otp.run(trd.first()[['PRICE']],start=otp.dt(2022,3,1,10), end=otp.dt(2022,3,1,10,15)))\n",
    "\n",
    "otp.config['tz'] = 'EST5EDT'\n",
    "trd = otp.DataSource('NYSE_TAQ', tick_type='TRD')\n",
    "print(otp.run(trd.first()[['PRICE']],start=otp.dt(2022,3,1,10), end=otp.dt(2022,3,1,10,15)))\n"
   ]
  },
  {
   "cell_type": "code",
   "execution_count": 59,
   "id": "f9345164",
   "metadata": {},
   "outputs": [
    {
     "name": "stdout",
     "output_type": "stream",
     "text": [
      "                           Time EXCHANGE  COND STOP_STOCK SOURCE TRF TTE TICKER   PRICE DELETED_TIME  TICK_STATUS  SIZE  CORR  SEQ_NUM TRADE_ID              PARTICIPANT_TIME   TRF_TIME  OMDSEQ\n",
      "0 2022-03-01 10:00:04.133843068        P  @ TI                 N       0   AAPL  164.01   1970-01-01            0     1     0    18621      452 2022-03-01 10:00:04.133499136 1970-01-01       0\n",
      "1 2022-03-01 10:00:08.519225755        P  @ TI                 N       0   AAPL  164.00   1970-01-01            0     1     0    18635      453 2022-03-01 10:00:08.518881024 1970-01-01       0\n",
      "2 2022-03-01 10:00:15.746801681        Q  @FTI                 N       1   AAPL  164.01   1970-01-01            0     1     0    18649      405 2022-03-01 10:00:15.746784019 1970-01-01       0\n",
      "3 2022-03-01 10:00:30.490236820        P  @ TI                 N       0   AAPL  164.00   1970-01-01            0     1     0    18686      454 2022-03-01 10:00:30.489892608 1970-01-01       0\n",
      "4 2022-03-01 10:00:30.497604203        K  @FTI                 N       1   AAPL  164.01   1970-01-01            0     1     0    18687      131 2022-03-01 10:00:30.497364000 1970-01-01       0\n",
      "                           Time EXCHANGE  COND STOP_STOCK SOURCE TRF TTE TICKER     PRICE        DELETED_TIME  TICK_STATUS  SIZE  CORR  SEQ_NUM TRADE_ID              PARTICIPANT_TIME                      TRF_TIME  OMDSEQ\n",
      "0 2022-03-01 10:00:00.010168563        D  @4 W                 N   Q   1   AAPL  165.2822 1969-12-31 18:00:00            0   109     0  2283964    53706 2022-03-01 10:00:00.000085000 2022-03-01 10:00:00.010144942       0\n",
      "1 2022-03-01 10:00:00.012746348        Z  @                    N       0   AAPL  165.1700 1969-12-31 18:00:00            0   100     0  2283965    31202 2022-03-01 10:00:00.012545000 1969-12-31 18:00:00.000000000       0\n",
      "2 2022-03-01 10:00:00.012754964        Z  @                    N       0   AAPL  165.1700 1969-12-31 18:00:00            0   100     0  2283966    31203 2022-03-01 10:00:00.012545000 1969-12-31 18:00:00.000000000       1\n",
      "3 2022-03-01 10:00:00.012757825        Z  @                    N       0   AAPL  165.1700 1969-12-31 18:00:00            0   100     0  2283967    31204 2022-03-01 10:00:00.012545000 1969-12-31 18:00:00.000000000       2\n",
      "4 2022-03-01 10:00:00.012902668        U  @                    N       0   AAPL  165.1700 1969-12-31 18:00:00            0   100     0  2283968    12450 2022-03-01 10:00:00.012689732 1969-12-31 18:00:00.000000000       3\n"
     ]
    }
   ],
   "source": [
    "# you can also pass a timezone to otp.run()\n",
    "trd = otp.DataSource('NYSE_TAQ', tick_type='TRD', start=otp.dt(2022,3,1,10), end=otp.dt(2022,3,1,10,15))\n",
    "print(otp.run(trd,timezone='GMT').head())\n",
    "\n",
    "trd = otp.DataSource('NYSE_TAQ', tick_type='TRD', start=otp.dt(2022,3,1,10), end=otp.dt(2022,3,1,10,15))\n",
    "print(otp.run(trd,timezone='America/Chicago').head())"
   ]
  },
  {
   "cell_type": "markdown",
   "id": "8e4fa1b9-7253-4d53-9fdf-db42f9fba161",
   "metadata": {},
   "source": [
    "## Reverting to OneTick when otp is not enough: the sink() method\n",
    "We are working to extend otp to cover most of the cases but OneTick is big and powerful and oftentimes it offers functionality that is not yet available in otp. The 'sink()' method lets you (pretty seamlessly) transition to a lower level API called onetick.query that supports all of OneTick features. See docs/onetick.query.api.python.html in OneTick documentation."
   ]
  },
  {
   "cell_type": "code",
   "execution_count": 60,
   "id": "d6a70a4d",
   "metadata": {},
   "outputs": [
    {
     "data": {
      "text/html": [
       "<div>\n",
       "<style scoped>\n",
       "    .dataframe tbody tr th:only-of-type {\n",
       "        vertical-align: middle;\n",
       "    }\n",
       "\n",
       "    .dataframe tbody tr th {\n",
       "        vertical-align: top;\n",
       "    }\n",
       "\n",
       "    .dataframe thead th {\n",
       "        text-align: right;\n",
       "    }\n",
       "</style>\n",
       "<table border=\"1\" class=\"dataframe\">\n",
       "  <thead>\n",
       "    <tr style=\"text-align: right;\">\n",
       "      <th></th>\n",
       "      <th>Time</th>\n",
       "      <th>VAR_PRICE</th>\n",
       "      <th>std</th>\n",
       "    </tr>\n",
       "  </thead>\n",
       "  <tbody>\n",
       "    <tr>\n",
       "      <th>0</th>\n",
       "      <td>2022-09-01 10:01:00</td>\n",
       "      <td>0.016861</td>\n",
       "      <td>0.129851</td>\n",
       "    </tr>\n",
       "    <tr>\n",
       "      <th>1</th>\n",
       "      <td>2022-09-01 10:02:00</td>\n",
       "      <td>0.001083</td>\n",
       "      <td>0.032903</td>\n",
       "    </tr>\n",
       "    <tr>\n",
       "      <th>2</th>\n",
       "      <td>2022-09-01 10:03:00</td>\n",
       "      <td>0.004457</td>\n",
       "      <td>0.066762</td>\n",
       "    </tr>\n",
       "    <tr>\n",
       "      <th>3</th>\n",
       "      <td>2022-09-01 10:04:00</td>\n",
       "      <td>0.001522</td>\n",
       "      <td>0.039015</td>\n",
       "    </tr>\n",
       "    <tr>\n",
       "      <th>4</th>\n",
       "      <td>2022-09-01 10:05:00</td>\n",
       "      <td>0.001840</td>\n",
       "      <td>0.042895</td>\n",
       "    </tr>\n",
       "    <tr>\n",
       "      <th>...</th>\n",
       "      <td>...</td>\n",
       "      <td>...</td>\n",
       "      <td>...</td>\n",
       "    </tr>\n",
       "    <tr>\n",
       "      <th>355</th>\n",
       "      <td>2022-09-01 15:56:00</td>\n",
       "      <td>0.000230</td>\n",
       "      <td>0.015159</td>\n",
       "    </tr>\n",
       "    <tr>\n",
       "      <th>356</th>\n",
       "      <td>2022-09-01 15:57:00</td>\n",
       "      <td>0.000491</td>\n",
       "      <td>0.022159</td>\n",
       "    </tr>\n",
       "    <tr>\n",
       "      <th>357</th>\n",
       "      <td>2022-09-01 15:58:00</td>\n",
       "      <td>0.000508</td>\n",
       "      <td>0.022529</td>\n",
       "    </tr>\n",
       "    <tr>\n",
       "      <th>358</th>\n",
       "      <td>2022-09-01 15:59:00</td>\n",
       "      <td>0.000034</td>\n",
       "      <td>0.005794</td>\n",
       "    </tr>\n",
       "    <tr>\n",
       "      <th>359</th>\n",
       "      <td>2022-09-01 16:00:00</td>\n",
       "      <td>0.000625</td>\n",
       "      <td>0.024996</td>\n",
       "    </tr>\n",
       "  </tbody>\n",
       "</table>\n",
       "<p>360 rows × 3 columns</p>\n",
       "</div>"
      ],
      "text/plain": [
       "                   Time  VAR_PRICE       std\n",
       "0   2022-09-01 10:01:00   0.016861  0.129851\n",
       "1   2022-09-01 10:02:00   0.001083  0.032903\n",
       "2   2022-09-01 10:03:00   0.004457  0.066762\n",
       "3   2022-09-01 10:04:00   0.001522  0.039015\n",
       "4   2022-09-01 10:05:00   0.001840  0.042895\n",
       "..                  ...        ...       ...\n",
       "355 2022-09-01 15:56:00   0.000230  0.015159\n",
       "356 2022-09-01 15:57:00   0.000491  0.022159\n",
       "357 2022-09-01 15:58:00   0.000508  0.022529\n",
       "358 2022-09-01 15:59:00   0.000034  0.005794\n",
       "359 2022-09-01 16:00:00   0.000625  0.024996\n",
       "\n",
       "[360 rows x 3 columns]"
      ]
     },
     "execution_count": 60,
     "metadata": {},
     "output_type": "execute_result"
    }
   ],
   "source": [
    "import onetick.query as otq\n",
    "trd = otp.DataSource('NYSE_TAQ', tick_type='TRD')\n",
    "\n",
    "trd.sink(otq.Variance(input_field_name='PRICE', output_field_name='VAR_PRICE', bucket_interval=60))\n",
    "trd = trd.table(VAR_PRICE=float, strict=False) # need to explicitly add the fields added by the `sink` methods to the schema\n",
    "\n",
    "trd['std'] = otp.math.sqrt(trd['VAR_PRICE'])\n",
    "\n",
    "otp.run(trd,  start=otp.dt(2022,9,1,10), end=otp.dt(2022,9,1,16), symbols='AA')"
   ]
  },
  {
   "cell_type": "markdown",
   "id": "128aa05e-6aa6-40d4-9ca5-56d771a689e6",
   "metadata": {
    "tags": []
   },
   "source": [
    "## Filters: using both `if` and `else` branches\n",
    "Filters return two objects: one for the ticks that satisfy the conditions and the other one for the ones that don't. Having both objects allows combining the two streams without duplication anything that happens before the filter. An example is below."
   ]
  },
  {
   "cell_type": "code",
   "execution_count": 61,
   "id": "4812625e-e8a5-468e-a49c-4dcc851676e9",
   "metadata": {},
   "outputs": [
    {
     "name": "stdout",
     "output_type": "stream",
     "text": [
      "                           Time   PRICE  SIZE EXCHANGE  COND\n",
      "0 2022-03-01 10:00:00.003529175  165.75   100        Q  @   \n",
      "1 2022-03-01 10:00:00.003530928  165.75   100        Q  @   \n",
      "2 2022-03-01 10:00:00.003532720  165.75   100        Q  @   \n",
      "3 2022-03-01 10:00:00.003676379  165.75   100        Z  @   \n",
      "4 2022-03-01 10:00:00.004032611  165.75   104        H  @F  \n"
     ]
    },
    {
     "data": {
      "text/html": [
       "<div>\n",
       "<style scoped>\n",
       "    .dataframe tbody tr th:only-of-type {\n",
       "        vertical-align: middle;\n",
       "    }\n",
       "\n",
       "    .dataframe tbody tr th {\n",
       "        vertical-align: top;\n",
       "    }\n",
       "\n",
       "    .dataframe thead th {\n",
       "        text-align: right;\n",
       "    }\n",
       "</style>\n",
       "<table border=\"1\" class=\"dataframe\">\n",
       "  <thead>\n",
       "    <tr style=\"text-align: right;\">\n",
       "      <th></th>\n",
       "      <th>Time</th>\n",
       "      <th>PRICE</th>\n",
       "      <th>SIZE</th>\n",
       "      <th>EXCHANGE</th>\n",
       "      <th>COND</th>\n",
       "    </tr>\n",
       "  </thead>\n",
       "  <tbody>\n",
       "    <tr>\n",
       "      <th>0</th>\n",
       "      <td>2022-03-01 10:00:00.003529175</td>\n",
       "      <td>165.75</td>\n",
       "      <td>100</td>\n",
       "      <td>Q</td>\n",
       "      <td>@</td>\n",
       "    </tr>\n",
       "    <tr>\n",
       "      <th>1</th>\n",
       "      <td>2022-03-01 10:00:00.003676379</td>\n",
       "      <td>165.75</td>\n",
       "      <td>100</td>\n",
       "      <td>Z</td>\n",
       "      <td>@</td>\n",
       "    </tr>\n",
       "    <tr>\n",
       "      <th>2</th>\n",
       "      <td>2022-03-01 10:00:00.004032611</td>\n",
       "      <td>165.75</td>\n",
       "      <td>104</td>\n",
       "      <td>H</td>\n",
       "      <td>@F</td>\n",
       "    </tr>\n",
       "  </tbody>\n",
       "</table>\n",
       "</div>"
      ],
      "text/plain": [
       "                           Time   PRICE  SIZE EXCHANGE  COND\n",
       "0 2022-03-01 10:00:00.003529175  165.75   100        Q  @   \n",
       "1 2022-03-01 10:00:00.003676379  165.75   100        Z  @   \n",
       "2 2022-03-01 10:00:00.004032611  165.75   104        H  @F  "
      ]
     },
     "execution_count": 61,
     "metadata": {},
     "output_type": "execute_result"
    }
   ],
   "source": [
    "# this processing happens before a filter\n",
    "trd = otp.DataSource('NYSE_TAQ', tick_type='TRD')\n",
    "trd = trd[['PRICE','SIZE','EXCHANGE','COND']]\n",
    "trd = trd.first(5)\n",
    "print(otp.run(trd, symbols='AAPL', start=otp.dt(2022,3,1,10), end=otp.dt(2022,3,1,10,15)))\n",
    "\n",
    "# the filter is applied\n",
    "q, non_q = trd[trd['EXCHANGE']=='Q']\n",
    "\n",
    "# different processing can be applied to the different braches of the filter\n",
    "q = q.first()\n",
    "\n",
    "# the two branches can them be merged\n",
    "merged = otp.merge([q, non_q])\n",
    "\n",
    "otp.run(merged, symbols='AAPL', start=otp.dt(2022,3,1,10), end=otp.dt(2022,3,1,10,15))"
   ]
  },
  {
   "cell_type": "code",
   "execution_count": null,
   "id": "1186971f-9b9b-4c20-96e2-d8f345c66d80",
   "metadata": {},
   "outputs": [],
   "source": []
  }
 ],
 "metadata": {
  "kernelspec": {
   "display_name": "Python 3 (ipykernel)",
   "language": "python",
   "name": "python3"
  },
  "language_info": {
   "codemirror_mode": {
    "name": "ipython",
    "version": 3
   },
   "file_extension": ".py",
   "mimetype": "text/x-python",
   "name": "python",
   "nbconvert_exporter": "python",
   "pygments_lexer": "ipython3",
   "version": "3.9.8"
  }
 },
 "nbformat": 4,
 "nbformat_minor": 5
}
